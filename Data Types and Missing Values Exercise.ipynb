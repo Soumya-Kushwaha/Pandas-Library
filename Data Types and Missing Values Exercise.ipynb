{
 "cells": [
  {
   "cell_type": "markdown",
   "id": "60639e7d",
   "metadata": {
    "papermill": {
     "duration": 0.00529,
     "end_time": "2022-08-13T11:52:41.380210",
     "exception": false,
     "start_time": "2022-08-13T11:52:41.374920",
     "status": "completed"
    },
    "tags": []
   },
   "source": [
    "**This notebook is an exercise in the [Pandas](https://www.kaggle.com/learn/pandas) course.  You can reference the tutorial at [this link](https://www.kaggle.com/residentmario/data-types-and-missing-values).**\n",
    "\n",
    "---\n"
   ]
  },
  {
   "cell_type": "markdown",
   "id": "2f6dd12c",
   "metadata": {
    "papermill": {
     "duration": 0.003879,
     "end_time": "2022-08-13T11:52:41.388925",
     "exception": false,
     "start_time": "2022-08-13T11:52:41.385046",
     "status": "completed"
    },
    "tags": []
   },
   "source": [
    "# Introduction\n",
    "\n",
    "Run the following cell to load your data and some utility functions."
   ]
  },
  {
   "cell_type": "code",
   "execution_count": 1,
   "id": "2adf25dd",
   "metadata": {
    "execution": {
     "iopub.execute_input": "2022-08-13T11:52:41.399308Z",
     "iopub.status.busy": "2022-08-13T11:52:41.398686Z",
     "iopub.status.idle": "2022-08-13T11:52:46.677562Z",
     "shell.execute_reply": "2022-08-13T11:52:46.676349Z"
    },
    "papermill": {
     "duration": 5.287767,
     "end_time": "2022-08-13T11:52:46.680719",
     "exception": false,
     "start_time": "2022-08-13T11:52:41.392952",
     "status": "completed"
    },
    "tags": []
   },
   "outputs": [
    {
     "name": "stdout",
     "output_type": "stream",
     "text": [
      "Setup complete.\n"
     ]
    }
   ],
   "source": [
    "import pandas as pd\n",
    "\n",
    "reviews = pd.read_csv(\"../input/wine-reviews/winemag-data-130k-v2.csv\", index_col=0)\n",
    "\n",
    "from learntools.core import binder; binder.bind(globals())\n",
    "from learntools.pandas.data_types_and_missing_data import *\n",
    "print(\"Setup complete.\")"
   ]
  },
  {
   "cell_type": "markdown",
   "id": "6e0a70e6",
   "metadata": {
    "papermill": {
     "duration": 0.00397,
     "end_time": "2022-08-13T11:52:46.690126",
     "exception": false,
     "start_time": "2022-08-13T11:52:46.686156",
     "status": "completed"
    },
    "tags": []
   },
   "source": [
    "# Exercises"
   ]
  },
  {
   "cell_type": "markdown",
   "id": "30ee17da",
   "metadata": {
    "papermill": {
     "duration": 0.003888,
     "end_time": "2022-08-13T11:52:46.698199",
     "exception": false,
     "start_time": "2022-08-13T11:52:46.694311",
     "status": "completed"
    },
    "tags": []
   },
   "source": [
    "## 1. \n",
    "What is the data type of the `points` column in the dataset?"
   ]
  },
  {
   "cell_type": "code",
   "execution_count": 2,
   "id": "1a990441",
   "metadata": {
    "execution": {
     "iopub.execute_input": "2022-08-13T11:52:46.708659Z",
     "iopub.status.busy": "2022-08-13T11:52:46.708034Z",
     "iopub.status.idle": "2022-08-13T11:52:46.718222Z",
     "shell.execute_reply": "2022-08-13T11:52:46.717145Z"
    },
    "papermill": {
     "duration": 0.018275,
     "end_time": "2022-08-13T11:52:46.720600",
     "exception": false,
     "start_time": "2022-08-13T11:52:46.702325",
     "status": "completed"
    },
    "tags": []
   },
   "outputs": [
    {
     "data": {
      "application/javascript": [
       "parent.postMessage({\"jupyterEvent\": \"custom.exercise_interaction\", \"data\": {\"outcomeType\": 1, \"valueTowardsCompletion\": 0.25, \"interactionType\": 1, \"questionType\": 1, \"questionId\": \"1_PointsDtype\", \"learnToolsVersion\": \"0.3.4\", \"failureMessage\": \"\", \"exceptionClass\": \"\", \"trace\": \"\"}}, \"*\")"
      ],
      "text/plain": [
       "<IPython.core.display.Javascript object>"
      ]
     },
     "metadata": {},
     "output_type": "display_data"
    },
    {
     "data": {
      "text/markdown": [
       "<span style=\"color:#33cc33\">Correct</span>"
      ],
      "text/plain": [
       "Correct"
      ]
     },
     "metadata": {},
     "output_type": "display_data"
    }
   ],
   "source": [
    "# Your code here\n",
    "dtype = reviews.points.dtype\n",
    "\n",
    "# Check your answer\n",
    "q1.check()"
   ]
  },
  {
   "cell_type": "code",
   "execution_count": 3,
   "id": "672cc060",
   "metadata": {
    "execution": {
     "iopub.execute_input": "2022-08-13T11:52:46.731365Z",
     "iopub.status.busy": "2022-08-13T11:52:46.730729Z",
     "iopub.status.idle": "2022-08-13T11:52:46.734390Z",
     "shell.execute_reply": "2022-08-13T11:52:46.733589Z"
    },
    "papermill": {
     "duration": 0.011467,
     "end_time": "2022-08-13T11:52:46.736488",
     "exception": false,
     "start_time": "2022-08-13T11:52:46.725021",
     "status": "completed"
    },
    "tags": []
   },
   "outputs": [],
   "source": [
    "#q1.hint()\n",
    "#q1.solution()"
   ]
  },
  {
   "cell_type": "markdown",
   "id": "e06bd7d1",
   "metadata": {
    "papermill": {
     "duration": 0.004247,
     "end_time": "2022-08-13T11:52:46.745424",
     "exception": false,
     "start_time": "2022-08-13T11:52:46.741177",
     "status": "completed"
    },
    "tags": []
   },
   "source": [
    "## 2. \n",
    "Create a Series from entries in the `points` column, but convert the entries to strings. Hint: strings are `str` in native Python."
   ]
  },
  {
   "cell_type": "code",
   "execution_count": 4,
   "id": "8acbf036",
   "metadata": {
    "execution": {
     "iopub.execute_input": "2022-08-13T11:52:46.756596Z",
     "iopub.status.busy": "2022-08-13T11:52:46.755840Z",
     "iopub.status.idle": "2022-08-13T11:52:46.837136Z",
     "shell.execute_reply": "2022-08-13T11:52:46.835757Z"
    },
    "papermill": {
     "duration": 0.089539,
     "end_time": "2022-08-13T11:52:46.839417",
     "exception": false,
     "start_time": "2022-08-13T11:52:46.749878",
     "status": "completed"
    },
    "tags": []
   },
   "outputs": [
    {
     "data": {
      "application/javascript": [
       "parent.postMessage({\"jupyterEvent\": \"custom.exercise_interaction\", \"data\": {\"outcomeType\": 1, \"valueTowardsCompletion\": 0.25, \"interactionType\": 1, \"questionType\": 1, \"questionId\": \"2_StrPoints\", \"learnToolsVersion\": \"0.3.4\", \"failureMessage\": \"\", \"exceptionClass\": \"\", \"trace\": \"\"}}, \"*\")"
      ],
      "text/plain": [
       "<IPython.core.display.Javascript object>"
      ]
     },
     "metadata": {},
     "output_type": "display_data"
    },
    {
     "data": {
      "text/markdown": [
       "<span style=\"color:#33cc33\">Correct</span>"
      ],
      "text/plain": [
       "Correct"
      ]
     },
     "metadata": {},
     "output_type": "display_data"
    }
   ],
   "source": [
    "point_strings = reviews.points.astype('str')\n",
    "\n",
    "# Check your answer\n",
    "q2.check()"
   ]
  },
  {
   "cell_type": "code",
   "execution_count": 5,
   "id": "6d477135",
   "metadata": {
    "execution": {
     "iopub.execute_input": "2022-08-13T11:52:46.851702Z",
     "iopub.status.busy": "2022-08-13T11:52:46.851241Z",
     "iopub.status.idle": "2022-08-13T11:52:46.855572Z",
     "shell.execute_reply": "2022-08-13T11:52:46.854430Z"
    },
    "papermill": {
     "duration": 0.013451,
     "end_time": "2022-08-13T11:52:46.858161",
     "exception": false,
     "start_time": "2022-08-13T11:52:46.844710",
     "status": "completed"
    },
    "tags": []
   },
   "outputs": [],
   "source": [
    "#q2.hint()\n",
    "#q2.solution()"
   ]
  },
  {
   "cell_type": "markdown",
   "id": "da2410a7",
   "metadata": {
    "papermill": {
     "duration": 0.004662,
     "end_time": "2022-08-13T11:52:46.867995",
     "exception": false,
     "start_time": "2022-08-13T11:52:46.863333",
     "status": "completed"
    },
    "tags": []
   },
   "source": [
    "## 3.\n",
    "Sometimes the price column is null. How many reviews in the dataset are missing a price?"
   ]
  },
  {
   "cell_type": "code",
   "execution_count": 6,
   "id": "9c22cba4",
   "metadata": {
    "execution": {
     "iopub.execute_input": "2022-08-13T11:52:46.879637Z",
     "iopub.status.busy": "2022-08-13T11:52:46.879214Z",
     "iopub.status.idle": "2022-08-13T11:52:46.889898Z",
     "shell.execute_reply": "2022-08-13T11:52:46.888815Z"
    },
    "papermill": {
     "duration": 0.019369,
     "end_time": "2022-08-13T11:52:46.892266",
     "exception": false,
     "start_time": "2022-08-13T11:52:46.872897",
     "status": "completed"
    },
    "tags": []
   },
   "outputs": [
    {
     "data": {
      "application/javascript": [
       "parent.postMessage({\"jupyterEvent\": \"custom.exercise_interaction\", \"data\": {\"outcomeType\": 1, \"valueTowardsCompletion\": 0.25, \"interactionType\": 1, \"questionType\": 1, \"questionId\": \"3_CountMissingPrices\", \"learnToolsVersion\": \"0.3.4\", \"failureMessage\": \"\", \"exceptionClass\": \"\", \"trace\": \"\"}}, \"*\")"
      ],
      "text/plain": [
       "<IPython.core.display.Javascript object>"
      ]
     },
     "metadata": {},
     "output_type": "display_data"
    },
    {
     "data": {
      "text/markdown": [
       "<span style=\"color:#33cc33\">Correct</span>"
      ],
      "text/plain": [
       "Correct"
      ]
     },
     "metadata": {},
     "output_type": "display_data"
    }
   ],
   "source": [
    "n_missing_prices = reviews.price.isnull().sum()\n",
    "\n",
    "# Check your answer\n",
    "q3.check()"
   ]
  },
  {
   "cell_type": "code",
   "execution_count": 7,
   "id": "87943f76",
   "metadata": {
    "execution": {
     "iopub.execute_input": "2022-08-13T11:52:46.904792Z",
     "iopub.status.busy": "2022-08-13T11:52:46.904014Z",
     "iopub.status.idle": "2022-08-13T11:52:46.908061Z",
     "shell.execute_reply": "2022-08-13T11:52:46.907088Z"
    },
    "papermill": {
     "duration": 0.012963,
     "end_time": "2022-08-13T11:52:46.910366",
     "exception": false,
     "start_time": "2022-08-13T11:52:46.897403",
     "status": "completed"
    },
    "tags": []
   },
   "outputs": [],
   "source": [
    "#q3.hint()\n",
    "#q3.solution()"
   ]
  },
  {
   "cell_type": "markdown",
   "id": "58a8795b",
   "metadata": {
    "papermill": {
     "duration": 0.004763,
     "end_time": "2022-08-13T11:52:46.920433",
     "exception": false,
     "start_time": "2022-08-13T11:52:46.915670",
     "status": "completed"
    },
    "tags": []
   },
   "source": [
    "## 4.\n",
    "What are the most common wine-producing regions? Create a Series counting the number of times each value occurs in the `region_1` field. This field is often missing data, so replace missing values with `Unknown`. Sort in descending order.  Your output should look something like this:\n",
    "\n",
    "```\n",
    "Unknown                    21247\n",
    "Napa Valley                 4480\n",
    "                           ...  \n",
    "Bardolino Superiore            1\n",
    "Primitivo del Tarantino        1\n",
    "Name: region_1, Length: 1230, dtype: int64\n",
    "```"
   ]
  },
  {
   "cell_type": "code",
   "execution_count": 8,
   "id": "f0eb299e",
   "metadata": {
    "execution": {
     "iopub.execute_input": "2022-08-13T11:52:46.932562Z",
     "iopub.status.busy": "2022-08-13T11:52:46.931783Z",
     "iopub.status.idle": "2022-08-13T11:52:46.973559Z",
     "shell.execute_reply": "2022-08-13T11:52:46.972751Z"
    },
    "papermill": {
     "duration": 0.050326,
     "end_time": "2022-08-13T11:52:46.975727",
     "exception": false,
     "start_time": "2022-08-13T11:52:46.925401",
     "status": "completed"
    },
    "tags": []
   },
   "outputs": [
    {
     "data": {
      "application/javascript": [
       "parent.postMessage({\"jupyterEvent\": \"custom.exercise_interaction\", \"data\": {\"outcomeType\": 1, \"valueTowardsCompletion\": 0.25, \"interactionType\": 1, \"questionType\": 2, \"questionId\": \"4_ReviewsPerRegion\", \"learnToolsVersion\": \"0.3.4\", \"failureMessage\": \"\", \"exceptionClass\": \"\", \"trace\": \"\"}}, \"*\")"
      ],
      "text/plain": [
       "<IPython.core.display.Javascript object>"
      ]
     },
     "metadata": {},
     "output_type": "display_data"
    },
    {
     "data": {
      "text/markdown": [
       "<span style=\"color:#33cc33\">Correct</span>"
      ],
      "text/plain": [
       "Correct"
      ]
     },
     "metadata": {},
     "output_type": "display_data"
    }
   ],
   "source": [
    "reviews_per_region = reviews.region_1.fillna('Unknown').value_counts().sort_values(ascending = False)\n",
    "\n",
    "# Check your answer\n",
    "q4.check()"
   ]
  },
  {
   "cell_type": "code",
   "execution_count": 9,
   "id": "5a64f7fa",
   "metadata": {
    "execution": {
     "iopub.execute_input": "2022-08-13T11:52:46.988501Z",
     "iopub.status.busy": "2022-08-13T11:52:46.987755Z",
     "iopub.status.idle": "2022-08-13T11:52:46.991483Z",
     "shell.execute_reply": "2022-08-13T11:52:46.990718Z"
    },
    "papermill": {
     "duration": 0.012456,
     "end_time": "2022-08-13T11:52:46.993453",
     "exception": false,
     "start_time": "2022-08-13T11:52:46.980997",
     "status": "completed"
    },
    "tags": []
   },
   "outputs": [],
   "source": [
    "#q4.hint()\n",
    "#q4.solution()"
   ]
  },
  {
   "cell_type": "markdown",
   "id": "63827b2a",
   "metadata": {
    "papermill": {
     "duration": 0.004939,
     "end_time": "2022-08-13T11:52:47.003814",
     "exception": false,
     "start_time": "2022-08-13T11:52:46.998875",
     "status": "completed"
    },
    "tags": []
   },
   "source": [
    "# Keep going\n",
    "\n",
    "Move on to **[renaming and combining](https://www.kaggle.com/residentmario/renaming-and-combining)**."
   ]
  },
  {
   "cell_type": "markdown",
   "id": "5a674555",
   "metadata": {
    "papermill": {
     "duration": 0.004852,
     "end_time": "2022-08-13T11:52:47.013876",
     "exception": false,
     "start_time": "2022-08-13T11:52:47.009024",
     "status": "completed"
    },
    "tags": []
   },
   "source": [
    "---\n",
    "\n",
    "\n",
    "\n",
    "\n",
    "*Have questions or comments? Visit the [course discussion forum](https://www.kaggle.com/learn/pandas/discussion) to chat with other learners.*"
   ]
  }
 ],
 "metadata": {
  "kernelspec": {
   "display_name": "Python 3",
   "language": "python",
   "name": "python3"
  },
  "language_info": {
   "codemirror_mode": {
    "name": "ipython",
    "version": 3
   },
   "file_extension": ".py",
   "mimetype": "text/x-python",
   "name": "python",
   "nbconvert_exporter": "python",
   "pygments_lexer": "ipython3",
   "version": "3.7.12"
  },
  "papermill": {
   "default_parameters": {},
   "duration": 16.536049,
   "end_time": "2022-08-13T11:52:47.740588",
   "environment_variables": {},
   "exception": null,
   "input_path": "__notebook__.ipynb",
   "output_path": "__notebook__.ipynb",
   "parameters": {},
   "start_time": "2022-08-13T11:52:31.204539",
   "version": "2.3.4"
  }
 },
 "nbformat": 4,
 "nbformat_minor": 5
}
