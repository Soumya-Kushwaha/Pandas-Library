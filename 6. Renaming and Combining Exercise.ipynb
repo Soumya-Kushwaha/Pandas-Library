{
 "cells": [
  {
   "cell_type": "markdown",
   "id": "1fdced7b",
   "metadata": {
    "papermill": {
     "duration": 0.006769,
     "end_time": "2022-08-13T12:18:19.219668",
     "exception": false,
     "start_time": "2022-08-13T12:18:19.212899",
     "status": "completed"
    },
    "tags": []
   },
   "source": [
    "**This notebook is an exercise in the [Pandas](https://www.kaggle.com/learn/pandas) course.  You can reference the tutorial at [this link](https://www.kaggle.com/residentmario/renaming-and-combining).**\n",
    "\n",
    "---\n"
   ]
  },
  {
   "cell_type": "markdown",
   "id": "6e054cb2",
   "metadata": {
    "papermill": {
     "duration": 0.005054,
     "end_time": "2022-08-13T12:18:19.230413",
     "exception": false,
     "start_time": "2022-08-13T12:18:19.225359",
     "status": "completed"
    },
    "tags": []
   },
   "source": [
    "# Introduction\n",
    "\n",
    "Run the following cell to load your data and some utility functions."
   ]
  },
  {
   "cell_type": "code",
   "execution_count": 1,
   "id": "b84b7485",
   "metadata": {
    "execution": {
     "iopub.execute_input": "2022-08-13T12:18:19.243678Z",
     "iopub.status.busy": "2022-08-13T12:18:19.242877Z",
     "iopub.status.idle": "2022-08-13T12:18:23.447314Z",
     "shell.execute_reply": "2022-08-13T12:18:23.445866Z"
    },
    "papermill": {
     "duration": 4.215325,
     "end_time": "2022-08-13T12:18:23.451180",
     "exception": false,
     "start_time": "2022-08-13T12:18:19.235855",
     "status": "completed"
    },
    "tags": []
   },
   "outputs": [
    {
     "name": "stdout",
     "output_type": "stream",
     "text": [
      "Setup complete.\n"
     ]
    }
   ],
   "source": [
    "import pandas as pd\n",
    "\n",
    "reviews = pd.read_csv(\"../input/wine-reviews/winemag-data-130k-v2.csv\", index_col=0)\n",
    "\n",
    "from learntools.core import binder; binder.bind(globals())\n",
    "from learntools.pandas.renaming_and_combining import *\n",
    "print(\"Setup complete.\")"
   ]
  },
  {
   "cell_type": "markdown",
   "id": "07cfb9ec",
   "metadata": {
    "papermill": {
     "duration": 0.00573,
     "end_time": "2022-08-13T12:18:23.463232",
     "exception": false,
     "start_time": "2022-08-13T12:18:23.457502",
     "status": "completed"
    },
    "tags": []
   },
   "source": [
    "# Exercises\n",
    "\n",
    "View the first several lines of your data by running the cell below:"
   ]
  },
  {
   "cell_type": "code",
   "execution_count": 2,
   "id": "ec118ff1",
   "metadata": {
    "execution": {
     "iopub.execute_input": "2022-08-13T12:18:23.477508Z",
     "iopub.status.busy": "2022-08-13T12:18:23.476778Z",
     "iopub.status.idle": "2022-08-13T12:18:23.503773Z",
     "shell.execute_reply": "2022-08-13T12:18:23.502533Z"
    },
    "papermill": {
     "duration": 0.037319,
     "end_time": "2022-08-13T12:18:23.506555",
     "exception": false,
     "start_time": "2022-08-13T12:18:23.469236",
     "status": "completed"
    },
    "tags": []
   },
   "outputs": [
    {
     "data": {
      "text/html": [
       "<div>\n",
       "<style scoped>\n",
       "    .dataframe tbody tr th:only-of-type {\n",
       "        vertical-align: middle;\n",
       "    }\n",
       "\n",
       "    .dataframe tbody tr th {\n",
       "        vertical-align: top;\n",
       "    }\n",
       "\n",
       "    .dataframe thead th {\n",
       "        text-align: right;\n",
       "    }\n",
       "</style>\n",
       "<table border=\"1\" class=\"dataframe\">\n",
       "  <thead>\n",
       "    <tr style=\"text-align: right;\">\n",
       "      <th></th>\n",
       "      <th>country</th>\n",
       "      <th>description</th>\n",
       "      <th>designation</th>\n",
       "      <th>points</th>\n",
       "      <th>price</th>\n",
       "      <th>province</th>\n",
       "      <th>region_1</th>\n",
       "      <th>region_2</th>\n",
       "      <th>taster_name</th>\n",
       "      <th>taster_twitter_handle</th>\n",
       "      <th>title</th>\n",
       "      <th>variety</th>\n",
       "      <th>winery</th>\n",
       "    </tr>\n",
       "  </thead>\n",
       "  <tbody>\n",
       "    <tr>\n",
       "      <th>0</th>\n",
       "      <td>Italy</td>\n",
       "      <td>Aromas include tropical fruit, broom, brimston...</td>\n",
       "      <td>Vulkà Bianco</td>\n",
       "      <td>87</td>\n",
       "      <td>NaN</td>\n",
       "      <td>Sicily &amp; Sardinia</td>\n",
       "      <td>Etna</td>\n",
       "      <td>NaN</td>\n",
       "      <td>Kerin O’Keefe</td>\n",
       "      <td>@kerinokeefe</td>\n",
       "      <td>Nicosia 2013 Vulkà Bianco  (Etna)</td>\n",
       "      <td>White Blend</td>\n",
       "      <td>Nicosia</td>\n",
       "    </tr>\n",
       "    <tr>\n",
       "      <th>1</th>\n",
       "      <td>Portugal</td>\n",
       "      <td>This is ripe and fruity, a wine that is smooth...</td>\n",
       "      <td>Avidagos</td>\n",
       "      <td>87</td>\n",
       "      <td>15.0</td>\n",
       "      <td>Douro</td>\n",
       "      <td>NaN</td>\n",
       "      <td>NaN</td>\n",
       "      <td>Roger Voss</td>\n",
       "      <td>@vossroger</td>\n",
       "      <td>Quinta dos Avidagos 2011 Avidagos Red (Douro)</td>\n",
       "      <td>Portuguese Red</td>\n",
       "      <td>Quinta dos Avidagos</td>\n",
       "    </tr>\n",
       "    <tr>\n",
       "      <th>2</th>\n",
       "      <td>US</td>\n",
       "      <td>Tart and snappy, the flavors of lime flesh and...</td>\n",
       "      <td>NaN</td>\n",
       "      <td>87</td>\n",
       "      <td>14.0</td>\n",
       "      <td>Oregon</td>\n",
       "      <td>Willamette Valley</td>\n",
       "      <td>Willamette Valley</td>\n",
       "      <td>Paul Gregutt</td>\n",
       "      <td>@paulgwine</td>\n",
       "      <td>Rainstorm 2013 Pinot Gris (Willamette Valley)</td>\n",
       "      <td>Pinot Gris</td>\n",
       "      <td>Rainstorm</td>\n",
       "    </tr>\n",
       "    <tr>\n",
       "      <th>3</th>\n",
       "      <td>US</td>\n",
       "      <td>Pineapple rind, lemon pith and orange blossom ...</td>\n",
       "      <td>Reserve Late Harvest</td>\n",
       "      <td>87</td>\n",
       "      <td>13.0</td>\n",
       "      <td>Michigan</td>\n",
       "      <td>Lake Michigan Shore</td>\n",
       "      <td>NaN</td>\n",
       "      <td>Alexander Peartree</td>\n",
       "      <td>NaN</td>\n",
       "      <td>St. Julian 2013 Reserve Late Harvest Riesling ...</td>\n",
       "      <td>Riesling</td>\n",
       "      <td>St. Julian</td>\n",
       "    </tr>\n",
       "    <tr>\n",
       "      <th>4</th>\n",
       "      <td>US</td>\n",
       "      <td>Much like the regular bottling from 2012, this...</td>\n",
       "      <td>Vintner's Reserve Wild Child Block</td>\n",
       "      <td>87</td>\n",
       "      <td>65.0</td>\n",
       "      <td>Oregon</td>\n",
       "      <td>Willamette Valley</td>\n",
       "      <td>Willamette Valley</td>\n",
       "      <td>Paul Gregutt</td>\n",
       "      <td>@paulgwine</td>\n",
       "      <td>Sweet Cheeks 2012 Vintner's Reserve Wild Child...</td>\n",
       "      <td>Pinot Noir</td>\n",
       "      <td>Sweet Cheeks</td>\n",
       "    </tr>\n",
       "  </tbody>\n",
       "</table>\n",
       "</div>"
      ],
      "text/plain": [
       "    country                                        description  \\\n",
       "0     Italy  Aromas include tropical fruit, broom, brimston...   \n",
       "1  Portugal  This is ripe and fruity, a wine that is smooth...   \n",
       "2        US  Tart and snappy, the flavors of lime flesh and...   \n",
       "3        US  Pineapple rind, lemon pith and orange blossom ...   \n",
       "4        US  Much like the regular bottling from 2012, this...   \n",
       "\n",
       "                          designation  points  price           province  \\\n",
       "0                        Vulkà Bianco      87    NaN  Sicily & Sardinia   \n",
       "1                            Avidagos      87   15.0              Douro   \n",
       "2                                 NaN      87   14.0             Oregon   \n",
       "3                Reserve Late Harvest      87   13.0           Michigan   \n",
       "4  Vintner's Reserve Wild Child Block      87   65.0             Oregon   \n",
       "\n",
       "              region_1           region_2         taster_name  \\\n",
       "0                 Etna                NaN       Kerin O’Keefe   \n",
       "1                  NaN                NaN          Roger Voss   \n",
       "2    Willamette Valley  Willamette Valley        Paul Gregutt   \n",
       "3  Lake Michigan Shore                NaN  Alexander Peartree   \n",
       "4    Willamette Valley  Willamette Valley        Paul Gregutt   \n",
       "\n",
       "  taster_twitter_handle                                              title  \\\n",
       "0          @kerinokeefe                  Nicosia 2013 Vulkà Bianco  (Etna)   \n",
       "1            @vossroger      Quinta dos Avidagos 2011 Avidagos Red (Douro)   \n",
       "2           @paulgwine       Rainstorm 2013 Pinot Gris (Willamette Valley)   \n",
       "3                   NaN  St. Julian 2013 Reserve Late Harvest Riesling ...   \n",
       "4           @paulgwine   Sweet Cheeks 2012 Vintner's Reserve Wild Child...   \n",
       "\n",
       "          variety               winery  \n",
       "0     White Blend              Nicosia  \n",
       "1  Portuguese Red  Quinta dos Avidagos  \n",
       "2      Pinot Gris            Rainstorm  \n",
       "3        Riesling           St. Julian  \n",
       "4      Pinot Noir         Sweet Cheeks  "
      ]
     },
     "execution_count": 2,
     "metadata": {},
     "output_type": "execute_result"
    }
   ],
   "source": [
    "reviews.head()"
   ]
  },
  {
   "cell_type": "markdown",
   "id": "25a17c27",
   "metadata": {
    "papermill": {
     "duration": 0.005889,
     "end_time": "2022-08-13T12:18:23.518925",
     "exception": false,
     "start_time": "2022-08-13T12:18:23.513036",
     "status": "completed"
    },
    "tags": []
   },
   "source": [
    "## 1.\n",
    "`region_1` and `region_2` are pretty uninformative names for locale columns in the dataset. Create a copy of `reviews` with these columns renamed to `region` and `locale`, respectively."
   ]
  },
  {
   "cell_type": "code",
   "execution_count": 3,
   "id": "2a0f1648",
   "metadata": {
    "execution": {
     "iopub.execute_input": "2022-08-13T12:18:23.533762Z",
     "iopub.status.busy": "2022-08-13T12:18:23.532829Z",
     "iopub.status.idle": "2022-08-13T12:18:23.571492Z",
     "shell.execute_reply": "2022-08-13T12:18:23.570308Z"
    },
    "papermill": {
     "duration": 0.049107,
     "end_time": "2022-08-13T12:18:23.574336",
     "exception": false,
     "start_time": "2022-08-13T12:18:23.525229",
     "status": "completed"
    },
    "tags": []
   },
   "outputs": [
    {
     "data": {
      "application/javascript": [
       "parent.postMessage({\"jupyterEvent\": \"custom.exercise_interaction\", \"data\": {\"outcomeType\": 1, \"valueTowardsCompletion\": 0.25, \"interactionType\": 1, \"questionType\": 1, \"questionId\": \"1_RenameCols\", \"learnToolsVersion\": \"0.3.4\", \"failureMessage\": \"\", \"exceptionClass\": \"\", \"trace\": \"\"}}, \"*\")"
      ],
      "text/plain": [
       "<IPython.core.display.Javascript object>"
      ]
     },
     "metadata": {},
     "output_type": "display_data"
    },
    {
     "data": {
      "text/markdown": [
       "<span style=\"color:#33cc33\">Correct</span>"
      ],
      "text/plain": [
       "Correct"
      ]
     },
     "metadata": {},
     "output_type": "display_data"
    }
   ],
   "source": [
    "# Your code here\n",
    "renamed = reviews.rename(columns = {'region_1' : 'region', 'region_2' : 'locale'})\n",
    "\n",
    "# Check your answer\n",
    "q1.check()"
   ]
  },
  {
   "cell_type": "code",
   "execution_count": 4,
   "id": "fc1d147d",
   "metadata": {
    "execution": {
     "iopub.execute_input": "2022-08-13T12:18:23.589527Z",
     "iopub.status.busy": "2022-08-13T12:18:23.589067Z",
     "iopub.status.idle": "2022-08-13T12:18:23.593962Z",
     "shell.execute_reply": "2022-08-13T12:18:23.592679Z"
    },
    "papermill": {
     "duration": 0.015656,
     "end_time": "2022-08-13T12:18:23.596534",
     "exception": false,
     "start_time": "2022-08-13T12:18:23.580878",
     "status": "completed"
    },
    "tags": []
   },
   "outputs": [],
   "source": [
    "#q1.hint()\n",
    "#q1.solution()"
   ]
  },
  {
   "cell_type": "markdown",
   "id": "844b4688",
   "metadata": {
    "papermill": {
     "duration": 0.005882,
     "end_time": "2022-08-13T12:18:23.608780",
     "exception": false,
     "start_time": "2022-08-13T12:18:23.602898",
     "status": "completed"
    },
    "tags": []
   },
   "source": [
    "## 2.\n",
    "Set the index name in the dataset to `wines`."
   ]
  },
  {
   "cell_type": "code",
   "execution_count": 5,
   "id": "a6d6670d",
   "metadata": {
    "execution": {
     "iopub.execute_input": "2022-08-13T12:18:23.623792Z",
     "iopub.status.busy": "2022-08-13T12:18:23.622561Z",
     "iopub.status.idle": "2022-08-13T12:18:23.749740Z",
     "shell.execute_reply": "2022-08-13T12:18:23.748316Z"
    },
    "papermill": {
     "duration": 0.137723,
     "end_time": "2022-08-13T12:18:23.752662",
     "exception": false,
     "start_time": "2022-08-13T12:18:23.614939",
     "status": "completed"
    },
    "tags": []
   },
   "outputs": [
    {
     "data": {
      "application/javascript": [
       "parent.postMessage({\"jupyterEvent\": \"custom.exercise_interaction\", \"data\": {\"outcomeType\": 1, \"valueTowardsCompletion\": 0.25, \"interactionType\": 1, \"questionType\": 1, \"questionId\": \"2_RenameIndex\", \"learnToolsVersion\": \"0.3.4\", \"failureMessage\": \"\", \"exceptionClass\": \"\", \"trace\": \"\"}}, \"*\")"
      ],
      "text/plain": [
       "<IPython.core.display.Javascript object>"
      ]
     },
     "metadata": {},
     "output_type": "display_data"
    },
    {
     "data": {
      "text/markdown": [
       "<span style=\"color:#33cc33\">Correct</span>"
      ],
      "text/plain": [
       "Correct"
      ]
     },
     "metadata": {},
     "output_type": "display_data"
    }
   ],
   "source": [
    "reindexed = reviews.rename(index = {'0': 'wines'})\n",
    "\n",
    "# Check your answer\n",
    "q2.check()"
   ]
  },
  {
   "cell_type": "code",
   "execution_count": 6,
   "id": "53f35923",
   "metadata": {
    "execution": {
     "iopub.execute_input": "2022-08-13T12:18:23.768169Z",
     "iopub.status.busy": "2022-08-13T12:18:23.767736Z",
     "iopub.status.idle": "2022-08-13T12:18:23.771955Z",
     "shell.execute_reply": "2022-08-13T12:18:23.770997Z"
    },
    "papermill": {
     "duration": 0.014962,
     "end_time": "2022-08-13T12:18:23.774593",
     "exception": false,
     "start_time": "2022-08-13T12:18:23.759631",
     "status": "completed"
    },
    "tags": []
   },
   "outputs": [],
   "source": [
    "#q2.hint()\n",
    "#q2.solution()"
   ]
  },
  {
   "cell_type": "markdown",
   "id": "895d3079",
   "metadata": {
    "papermill": {
     "duration": 0.006135,
     "end_time": "2022-08-13T12:18:23.787536",
     "exception": false,
     "start_time": "2022-08-13T12:18:23.781401",
     "status": "completed"
    },
    "tags": []
   },
   "source": [
    "## 3.\n",
    "The [Things on Reddit](https://www.kaggle.com/residentmario/things-on-reddit/data) dataset includes product links from a selection of top-ranked forums (\"subreddits\") on reddit.com. Run the cell below to load a dataframe of products mentioned on the */r/gaming* subreddit and another dataframe for products mentioned on the *r//movies* subreddit."
   ]
  },
  {
   "cell_type": "code",
   "execution_count": 7,
   "id": "935931b9",
   "metadata": {
    "execution": {
     "iopub.execute_input": "2022-08-13T12:18:23.802709Z",
     "iopub.status.busy": "2022-08-13T12:18:23.801781Z",
     "iopub.status.idle": "2022-08-13T12:18:23.817962Z",
     "shell.execute_reply": "2022-08-13T12:18:23.816978Z"
    },
    "papermill": {
     "duration": 0.027221,
     "end_time": "2022-08-13T12:18:23.821160",
     "exception": false,
     "start_time": "2022-08-13T12:18:23.793939",
     "status": "completed"
    },
    "tags": []
   },
   "outputs": [],
   "source": [
    "gaming_products = pd.read_csv(\"../input/things-on-reddit/top-things/top-things/reddits/g/gaming.csv\")\n",
    "gaming_products['subreddit'] = \"r/gaming\"\n",
    "movie_products = pd.read_csv(\"../input/things-on-reddit/top-things/top-things/reddits/m/movies.csv\")\n",
    "movie_products['subreddit'] = \"r/movies\""
   ]
  },
  {
   "cell_type": "markdown",
   "id": "89860449",
   "metadata": {
    "papermill": {
     "duration": 0.008103,
     "end_time": "2022-08-13T12:18:23.836889",
     "exception": false,
     "start_time": "2022-08-13T12:18:23.828786",
     "status": "completed"
    },
    "tags": []
   },
   "source": [
    "Create a `DataFrame` of products mentioned on *either* subreddit."
   ]
  },
  {
   "cell_type": "code",
   "execution_count": 8,
   "id": "02ac4493",
   "metadata": {
    "execution": {
     "iopub.execute_input": "2022-08-13T12:18:23.853190Z",
     "iopub.status.busy": "2022-08-13T12:18:23.852679Z",
     "iopub.status.idle": "2022-08-13T12:18:23.868077Z",
     "shell.execute_reply": "2022-08-13T12:18:23.866851Z"
    },
    "papermill": {
     "duration": 0.026728,
     "end_time": "2022-08-13T12:18:23.870726",
     "exception": false,
     "start_time": "2022-08-13T12:18:23.843998",
     "status": "completed"
    },
    "tags": []
   },
   "outputs": [
    {
     "data": {
      "application/javascript": [
       "parent.postMessage({\"jupyterEvent\": \"custom.exercise_interaction\", \"data\": {\"outcomeType\": 1, \"valueTowardsCompletion\": 0.25, \"interactionType\": 1, \"questionType\": 2, \"questionId\": \"3_ConcatReddit\", \"learnToolsVersion\": \"0.3.4\", \"failureMessage\": \"\", \"exceptionClass\": \"\", \"trace\": \"\"}}, \"*\")"
      ],
      "text/plain": [
       "<IPython.core.display.Javascript object>"
      ]
     },
     "metadata": {},
     "output_type": "display_data"
    },
    {
     "data": {
      "text/markdown": [
       "<span style=\"color:#33cc33\">Correct</span>"
      ],
      "text/plain": [
       "Correct"
      ]
     },
     "metadata": {},
     "output_type": "display_data"
    }
   ],
   "source": [
    "combined_products = pd.concat([gaming_products, movie_products])\n",
    "\n",
    "# Check your answer\n",
    "q3.check()"
   ]
  },
  {
   "cell_type": "code",
   "execution_count": 9,
   "id": "a36c6dc2",
   "metadata": {
    "execution": {
     "iopub.execute_input": "2022-08-13T12:18:23.886664Z",
     "iopub.status.busy": "2022-08-13T12:18:23.885785Z",
     "iopub.status.idle": "2022-08-13T12:18:23.890870Z",
     "shell.execute_reply": "2022-08-13T12:18:23.889638Z"
    },
    "papermill": {
     "duration": 0.016224,
     "end_time": "2022-08-13T12:18:23.893772",
     "exception": false,
     "start_time": "2022-08-13T12:18:23.877548",
     "status": "completed"
    },
    "tags": []
   },
   "outputs": [],
   "source": [
    "#q3.hint()\n",
    "#q3.solution()"
   ]
  },
  {
   "cell_type": "markdown",
   "id": "5da7e974",
   "metadata": {
    "papermill": {
     "duration": 0.006803,
     "end_time": "2022-08-13T12:18:23.907557",
     "exception": false,
     "start_time": "2022-08-13T12:18:23.900754",
     "status": "completed"
    },
    "tags": []
   },
   "source": [
    "## 4.\n",
    "The [Powerlifting Database](https://www.kaggle.com/open-powerlifting/powerlifting-database) dataset on Kaggle includes one CSV table for powerlifting meets and a separate one for powerlifting competitors. Run the cell below to load these datasets into dataframes:"
   ]
  },
  {
   "cell_type": "code",
   "execution_count": 10,
   "id": "8ed23bd5",
   "metadata": {
    "execution": {
     "iopub.execute_input": "2022-08-13T12:18:23.922928Z",
     "iopub.status.busy": "2022-08-13T12:18:23.922147Z",
     "iopub.status.idle": "2022-08-13T12:18:24.807838Z",
     "shell.execute_reply": "2022-08-13T12:18:24.806564Z"
    },
    "papermill": {
     "duration": 0.896662,
     "end_time": "2022-08-13T12:18:24.810921",
     "exception": false,
     "start_time": "2022-08-13T12:18:23.914259",
     "status": "completed"
    },
    "tags": []
   },
   "outputs": [],
   "source": [
    "powerlifting_meets = pd.read_csv(\"../input/powerlifting-database/meets.csv\")\n",
    "powerlifting_competitors = pd.read_csv(\"../input/powerlifting-database/openpowerlifting.csv\")"
   ]
  },
  {
   "cell_type": "markdown",
   "id": "073a8506",
   "metadata": {
    "papermill": {
     "duration": 0.006736,
     "end_time": "2022-08-13T12:18:24.825722",
     "exception": false,
     "start_time": "2022-08-13T12:18:24.818986",
     "status": "completed"
    },
    "tags": []
   },
   "source": [
    "Both tables include references to a `MeetID`, a unique key for each meet (competition) included in the database. Using this, generate a dataset combining the two tables into one."
   ]
  },
  {
   "cell_type": "code",
   "execution_count": 11,
   "id": "3c772885",
   "metadata": {
    "execution": {
     "iopub.execute_input": "2022-08-13T12:18:24.841435Z",
     "iopub.status.busy": "2022-08-13T12:18:24.840997Z",
     "iopub.status.idle": "2022-08-13T12:18:25.958248Z",
     "shell.execute_reply": "2022-08-13T12:18:25.957053Z"
    },
    "papermill": {
     "duration": 1.128258,
     "end_time": "2022-08-13T12:18:25.960992",
     "exception": false,
     "start_time": "2022-08-13T12:18:24.832734",
     "status": "completed"
    },
    "tags": []
   },
   "outputs": [
    {
     "data": {
      "application/javascript": [
       "parent.postMessage({\"jupyterEvent\": \"custom.exercise_interaction\", \"data\": {\"outcomeType\": 1, \"valueTowardsCompletion\": 0.25, \"interactionType\": 1, \"questionType\": 2, \"questionId\": \"4_JoinLifting\", \"learnToolsVersion\": \"0.3.4\", \"failureMessage\": \"\", \"exceptionClass\": \"\", \"trace\": \"\"}}, \"*\")"
      ],
      "text/plain": [
       "<IPython.core.display.Javascript object>"
      ]
     },
     "metadata": {},
     "output_type": "display_data"
    },
    {
     "data": {
      "text/markdown": [
       "<span style=\"color:#33cc33\">Correct</span>"
      ],
      "text/plain": [
       "Correct"
      ]
     },
     "metadata": {},
     "output_type": "display_data"
    }
   ],
   "source": [
    "powerlifting_combined = powerlifting_meets.set_index(\"MeetID\").join(powerlifting_competitors.set_index(\"MeetID\"))\n",
    "\n",
    "# Check your answer\n",
    "q4.check()"
   ]
  },
  {
   "cell_type": "code",
   "execution_count": 12,
   "id": "d3d35b18",
   "metadata": {
    "execution": {
     "iopub.execute_input": "2022-08-13T12:18:25.978098Z",
     "iopub.status.busy": "2022-08-13T12:18:25.977612Z",
     "iopub.status.idle": "2022-08-13T12:18:25.982749Z",
     "shell.execute_reply": "2022-08-13T12:18:25.981426Z"
    },
    "papermill": {
     "duration": 0.016665,
     "end_time": "2022-08-13T12:18:25.985218",
     "exception": false,
     "start_time": "2022-08-13T12:18:25.968553",
     "status": "completed"
    },
    "tags": []
   },
   "outputs": [],
   "source": [
    "#q4.hint()\n",
    "#q4.solution()"
   ]
  },
  {
   "cell_type": "markdown",
   "id": "c1d1b4d0",
   "metadata": {
    "papermill": {
     "duration": 0.006525,
     "end_time": "2022-08-13T12:18:25.998992",
     "exception": false,
     "start_time": "2022-08-13T12:18:25.992467",
     "status": "completed"
    },
    "tags": []
   },
   "source": [
    "# Congratulations!\n",
    "\n",
    "You've finished the Pandas micro-course.  Many data scientists feel efficiency with Pandas is the most useful and practical skill they have, because it allows you to progress quickly in any project you have.\n",
    "\n",
    "If you'd like to apply your new skills to examining geospatial data, you're encouraged to check out our **[Geospatial Analysis](https://www.kaggle.com/learn/geospatial-analysis)** micro-course.\n",
    "\n",
    "You can also take advantage of your Pandas skills by entering a **[Kaggle Competition](https://www.kaggle.com/competitions)** or by answering a question you find interesting using **[Kaggle Datasets](https://www.kaggle.com/datasets)**."
   ]
  },
  {
   "cell_type": "markdown",
   "id": "f629a744",
   "metadata": {
    "papermill": {
     "duration": 0.007176,
     "end_time": "2022-08-13T12:18:26.013172",
     "exception": false,
     "start_time": "2022-08-13T12:18:26.005996",
     "status": "completed"
    },
    "tags": []
   },
   "source": [
    "---\n",
    "\n",
    "\n",
    "\n",
    "\n",
    "*Have questions or comments? Visit the [course discussion forum](https://www.kaggle.com/learn/pandas/discussion) to chat with other learners.*"
   ]
  }
 ],
 "metadata": {
  "kernelspec": {
   "display_name": "Python 3",
   "language": "python",
   "name": "python3"
  },
  "language_info": {
   "codemirror_mode": {
    "name": "ipython",
    "version": 3
   },
   "file_extension": ".py",
   "mimetype": "text/x-python",
   "name": "python",
   "nbconvert_exporter": "python",
   "pygments_lexer": "ipython3",
   "version": "3.7.12"
  },
  "papermill": {
   "default_parameters": {},
   "duration": 16.927138,
   "end_time": "2022-08-13T12:18:26.844456",
   "environment_variables": {},
   "exception": null,
   "input_path": "__notebook__.ipynb",
   "output_path": "__notebook__.ipynb",
   "parameters": {},
   "start_time": "2022-08-13T12:18:09.917318",
   "version": "2.3.4"
  }
 },
 "nbformat": 4,
 "nbformat_minor": 5
}
