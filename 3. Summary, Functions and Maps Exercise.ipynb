{
 "cells": [
  {
   "cell_type": "markdown",
   "id": "0d467f78",
   "metadata": {
    "papermill": {
     "duration": 0.007491,
     "end_time": "2022-08-13T06:29:45.719245",
     "exception": false,
     "start_time": "2022-08-13T06:29:45.711754",
     "status": "completed"
    },
    "tags": []
   },
   "source": [
    "**This notebook is an exercise in the [Pandas](https://www.kaggle.com/learn/pandas) course.  You can reference the tutorial at [this link](https://www.kaggle.com/residentmario/summary-functions-and-maps).**\n",
    "\n",
    "---\n"
   ]
  },
  {
   "cell_type": "markdown",
   "id": "3aafdfa3",
   "metadata": {
    "papermill": {
     "duration": 0.005785,
     "end_time": "2022-08-13T06:29:45.731205",
     "exception": false,
     "start_time": "2022-08-13T06:29:45.725420",
     "status": "completed"
    },
    "tags": []
   },
   "source": [
    "# Introduction\n",
    "\n",
    "Now you are ready to get a deeper understanding of your data.\n",
    "\n",
    "Run the following cell to load your data and some utility functions (including code to check your answers)."
   ]
  },
  {
   "cell_type": "code",
   "execution_count": 1,
   "id": "e1450a25",
   "metadata": {
    "execution": {
     "iopub.execute_input": "2022-08-13T06:29:45.746373Z",
     "iopub.status.busy": "2022-08-13T06:29:45.745290Z",
     "iopub.status.idle": "2022-08-13T06:29:52.718945Z",
     "shell.execute_reply": "2022-08-13T06:29:52.717443Z"
    },
    "papermill": {
     "duration": 6.98472,
     "end_time": "2022-08-13T06:29:52.722003",
     "exception": false,
     "start_time": "2022-08-13T06:29:45.737283",
     "status": "completed"
    },
    "tags": []
   },
   "outputs": [
    {
     "name": "stdout",
     "output_type": "stream",
     "text": [
      "Setup complete.\n"
     ]
    },
    {
     "data": {
      "text/html": [
       "<div>\n",
       "<style scoped>\n",
       "    .dataframe tbody tr th:only-of-type {\n",
       "        vertical-align: middle;\n",
       "    }\n",
       "\n",
       "    .dataframe tbody tr th {\n",
       "        vertical-align: top;\n",
       "    }\n",
       "\n",
       "    .dataframe thead th {\n",
       "        text-align: right;\n",
       "    }\n",
       "</style>\n",
       "<table border=\"1\" class=\"dataframe\">\n",
       "  <thead>\n",
       "    <tr style=\"text-align: right;\">\n",
       "      <th></th>\n",
       "      <th>country</th>\n",
       "      <th>description</th>\n",
       "      <th>designation</th>\n",
       "      <th>points</th>\n",
       "      <th>price</th>\n",
       "      <th>province</th>\n",
       "      <th>region_1</th>\n",
       "      <th>region_2</th>\n",
       "      <th>taster_name</th>\n",
       "      <th>taster_twitter_handle</th>\n",
       "      <th>title</th>\n",
       "      <th>variety</th>\n",
       "      <th>winery</th>\n",
       "    </tr>\n",
       "  </thead>\n",
       "  <tbody>\n",
       "    <tr>\n",
       "      <th>0</th>\n",
       "      <td>Italy</td>\n",
       "      <td>Aromas include tropical fruit, broom, brimston...</td>\n",
       "      <td>Vulkà Bianco</td>\n",
       "      <td>87</td>\n",
       "      <td>NaN</td>\n",
       "      <td>Sicily &amp; Sardinia</td>\n",
       "      <td>Etna</td>\n",
       "      <td>NaN</td>\n",
       "      <td>Kerin O’Keefe</td>\n",
       "      <td>@kerinokeefe</td>\n",
       "      <td>Nicosia 2013 Vulkà Bianco  (Etna)</td>\n",
       "      <td>White Blend</td>\n",
       "      <td>Nicosia</td>\n",
       "    </tr>\n",
       "    <tr>\n",
       "      <th>1</th>\n",
       "      <td>Portugal</td>\n",
       "      <td>This is ripe and fruity, a wine that is smooth...</td>\n",
       "      <td>Avidagos</td>\n",
       "      <td>87</td>\n",
       "      <td>15.0</td>\n",
       "      <td>Douro</td>\n",
       "      <td>NaN</td>\n",
       "      <td>NaN</td>\n",
       "      <td>Roger Voss</td>\n",
       "      <td>@vossroger</td>\n",
       "      <td>Quinta dos Avidagos 2011 Avidagos Red (Douro)</td>\n",
       "      <td>Portuguese Red</td>\n",
       "      <td>Quinta dos Avidagos</td>\n",
       "    </tr>\n",
       "    <tr>\n",
       "      <th>2</th>\n",
       "      <td>US</td>\n",
       "      <td>Tart and snappy, the flavors of lime flesh and...</td>\n",
       "      <td>NaN</td>\n",
       "      <td>87</td>\n",
       "      <td>14.0</td>\n",
       "      <td>Oregon</td>\n",
       "      <td>Willamette Valley</td>\n",
       "      <td>Willamette Valley</td>\n",
       "      <td>Paul Gregutt</td>\n",
       "      <td>@paulgwine</td>\n",
       "      <td>Rainstorm 2013 Pinot Gris (Willamette Valley)</td>\n",
       "      <td>Pinot Gris</td>\n",
       "      <td>Rainstorm</td>\n",
       "    </tr>\n",
       "    <tr>\n",
       "      <th>3</th>\n",
       "      <td>US</td>\n",
       "      <td>Pineapple rind, lemon pith and orange blossom ...</td>\n",
       "      <td>Reserve Late Harvest</td>\n",
       "      <td>87</td>\n",
       "      <td>13.0</td>\n",
       "      <td>Michigan</td>\n",
       "      <td>Lake Michigan Shore</td>\n",
       "      <td>NaN</td>\n",
       "      <td>Alexander Peartree</td>\n",
       "      <td>NaN</td>\n",
       "      <td>St. Julian 2013 Reserve Late Harvest Riesling ...</td>\n",
       "      <td>Riesling</td>\n",
       "      <td>St. Julian</td>\n",
       "    </tr>\n",
       "    <tr>\n",
       "      <th>4</th>\n",
       "      <td>US</td>\n",
       "      <td>Much like the regular bottling from 2012, this...</td>\n",
       "      <td>Vintner's Reserve Wild Child Block</td>\n",
       "      <td>87</td>\n",
       "      <td>65.0</td>\n",
       "      <td>Oregon</td>\n",
       "      <td>Willamette Valley</td>\n",
       "      <td>Willamette Valley</td>\n",
       "      <td>Paul Gregutt</td>\n",
       "      <td>@paulgwine</td>\n",
       "      <td>Sweet Cheeks 2012 Vintner's Reserve Wild Child...</td>\n",
       "      <td>Pinot Noir</td>\n",
       "      <td>Sweet Cheeks</td>\n",
       "    </tr>\n",
       "  </tbody>\n",
       "</table>\n",
       "</div>"
      ],
      "text/plain": [
       "    country                                        description  \\\n",
       "0     Italy  Aromas include tropical fruit, broom, brimston...   \n",
       "1  Portugal  This is ripe and fruity, a wine that is smooth...   \n",
       "2        US  Tart and snappy, the flavors of lime flesh and...   \n",
       "3        US  Pineapple rind, lemon pith and orange blossom ...   \n",
       "4        US  Much like the regular bottling from 2012, this...   \n",
       "\n",
       "                          designation  points  price           province  \\\n",
       "0                        Vulkà Bianco      87    NaN  Sicily & Sardinia   \n",
       "1                            Avidagos      87   15.0              Douro   \n",
       "2                                 NaN      87   14.0             Oregon   \n",
       "3                Reserve Late Harvest      87   13.0           Michigan   \n",
       "4  Vintner's Reserve Wild Child Block      87   65.0             Oregon   \n",
       "\n",
       "              region_1           region_2         taster_name  \\\n",
       "0                 Etna                NaN       Kerin O’Keefe   \n",
       "1                  NaN                NaN          Roger Voss   \n",
       "2    Willamette Valley  Willamette Valley        Paul Gregutt   \n",
       "3  Lake Michigan Shore                NaN  Alexander Peartree   \n",
       "4    Willamette Valley  Willamette Valley        Paul Gregutt   \n",
       "\n",
       "  taster_twitter_handle                                              title  \\\n",
       "0          @kerinokeefe                  Nicosia 2013 Vulkà Bianco  (Etna)   \n",
       "1            @vossroger      Quinta dos Avidagos 2011 Avidagos Red (Douro)   \n",
       "2           @paulgwine       Rainstorm 2013 Pinot Gris (Willamette Valley)   \n",
       "3                   NaN  St. Julian 2013 Reserve Late Harvest Riesling ...   \n",
       "4           @paulgwine   Sweet Cheeks 2012 Vintner's Reserve Wild Child...   \n",
       "\n",
       "          variety               winery  \n",
       "0     White Blend              Nicosia  \n",
       "1  Portuguese Red  Quinta dos Avidagos  \n",
       "2      Pinot Gris            Rainstorm  \n",
       "3        Riesling           St. Julian  \n",
       "4      Pinot Noir         Sweet Cheeks  "
      ]
     },
     "execution_count": 1,
     "metadata": {},
     "output_type": "execute_result"
    }
   ],
   "source": [
    "import pandas as pd\n",
    "pd.set_option(\"display.max_rows\", 5)\n",
    "reviews = pd.read_csv(\"../input/wine-reviews/winemag-data-130k-v2.csv\", index_col=0)\n",
    "\n",
    "from learntools.core import binder; binder.bind(globals())\n",
    "from learntools.pandas.summary_functions_and_maps import *\n",
    "print(\"Setup complete.\")\n",
    "\n",
    "reviews.head()"
   ]
  },
  {
   "cell_type": "markdown",
   "id": "df6b2e42",
   "metadata": {
    "papermill": {
     "duration": 0.00628,
     "end_time": "2022-08-13T06:29:52.735165",
     "exception": false,
     "start_time": "2022-08-13T06:29:52.728885",
     "status": "completed"
    },
    "tags": []
   },
   "source": [
    "# Exercises"
   ]
  },
  {
   "cell_type": "markdown",
   "id": "34cbcbfa",
   "metadata": {
    "papermill": {
     "duration": 0.006272,
     "end_time": "2022-08-13T06:29:52.747943",
     "exception": false,
     "start_time": "2022-08-13T06:29:52.741671",
     "status": "completed"
    },
    "tags": []
   },
   "source": [
    "## 1.\n",
    "\n",
    "What is the median of the `points` column in the `reviews` DataFrame?"
   ]
  },
  {
   "cell_type": "code",
   "execution_count": 2,
   "id": "54f8bba8",
   "metadata": {
    "execution": {
     "iopub.execute_input": "2022-08-13T06:29:52.762942Z",
     "iopub.status.busy": "2022-08-13T06:29:52.762220Z",
     "iopub.status.idle": "2022-08-13T06:29:52.773539Z",
     "shell.execute_reply": "2022-08-13T06:29:52.772422Z"
    },
    "papermill": {
     "duration": 0.021614,
     "end_time": "2022-08-13T06:29:52.776068",
     "exception": false,
     "start_time": "2022-08-13T06:29:52.754454",
     "status": "completed"
    },
    "tags": []
   },
   "outputs": [
    {
     "data": {
      "application/javascript": [
       "parent.postMessage({\"jupyterEvent\": \"custom.exercise_interaction\", \"data\": {\"outcomeType\": 1, \"valueTowardsCompletion\": 0.14285714285714285, \"interactionType\": 1, \"questionType\": 1, \"questionId\": \"1_MedianPoints\", \"learnToolsVersion\": \"0.3.4\", \"failureMessage\": \"\", \"exceptionClass\": \"\", \"trace\": \"\"}}, \"*\")"
      ],
      "text/plain": [
       "<IPython.core.display.Javascript object>"
      ]
     },
     "metadata": {},
     "output_type": "display_data"
    },
    {
     "data": {
      "text/markdown": [
       "<span style=\"color:#33cc33\">Correct</span>"
      ],
      "text/plain": [
       "Correct"
      ]
     },
     "metadata": {},
     "output_type": "display_data"
    }
   ],
   "source": [
    "median_points = reviews.points.median()\n",
    "\n",
    "# Check your answer\n",
    "q1.check()"
   ]
  },
  {
   "cell_type": "code",
   "execution_count": 3,
   "id": "663ccf3f",
   "metadata": {
    "execution": {
     "iopub.execute_input": "2022-08-13T06:29:52.791027Z",
     "iopub.status.busy": "2022-08-13T06:29:52.790651Z",
     "iopub.status.idle": "2022-08-13T06:29:52.794128Z",
     "shell.execute_reply": "2022-08-13T06:29:52.793394Z"
    },
    "papermill": {
     "duration": 0.013415,
     "end_time": "2022-08-13T06:29:52.796231",
     "exception": false,
     "start_time": "2022-08-13T06:29:52.782816",
     "status": "completed"
    },
    "tags": []
   },
   "outputs": [],
   "source": [
    "#q1.hint()\n",
    "#q1.solution()"
   ]
  },
  {
   "cell_type": "markdown",
   "id": "1b9527f3",
   "metadata": {
    "papermill": {
     "duration": 0.006521,
     "end_time": "2022-08-13T06:29:52.809804",
     "exception": false,
     "start_time": "2022-08-13T06:29:52.803283",
     "status": "completed"
    },
    "tags": []
   },
   "source": [
    "## 2. \n",
    "What countries are represented in the dataset? (Your answer should not include any duplicates.)"
   ]
  },
  {
   "cell_type": "code",
   "execution_count": 4,
   "id": "e1301dc6",
   "metadata": {
    "execution": {
     "iopub.execute_input": "2022-08-13T06:29:52.824991Z",
     "iopub.status.busy": "2022-08-13T06:29:52.824596Z",
     "iopub.status.idle": "2022-08-13T06:29:52.840350Z",
     "shell.execute_reply": "2022-08-13T06:29:52.839264Z"
    },
    "papermill": {
     "duration": 0.026114,
     "end_time": "2022-08-13T06:29:52.842676",
     "exception": false,
     "start_time": "2022-08-13T06:29:52.816562",
     "status": "completed"
    },
    "tags": []
   },
   "outputs": [
    {
     "data": {
      "application/javascript": [
       "parent.postMessage({\"jupyterEvent\": \"custom.exercise_interaction\", \"data\": {\"outcomeType\": 1, \"valueTowardsCompletion\": 0.14285714285714285, \"interactionType\": 1, \"questionType\": 2, \"questionId\": \"2_UniqueCountries\", \"learnToolsVersion\": \"0.3.4\", \"failureMessage\": \"\", \"exceptionClass\": \"\", \"trace\": \"\"}}, \"*\")"
      ],
      "text/plain": [
       "<IPython.core.display.Javascript object>"
      ]
     },
     "metadata": {},
     "output_type": "display_data"
    },
    {
     "data": {
      "text/markdown": [
       "<span style=\"color:#33cc33\">Correct</span>"
      ],
      "text/plain": [
       "Correct"
      ]
     },
     "metadata": {},
     "output_type": "display_data"
    }
   ],
   "source": [
    "countries = reviews.country.unique()\n",
    "\n",
    "# Check your answer\n",
    "q2.check()"
   ]
  },
  {
   "cell_type": "code",
   "execution_count": 5,
   "id": "5b13f210",
   "metadata": {
    "execution": {
     "iopub.execute_input": "2022-08-13T06:29:52.858889Z",
     "iopub.status.busy": "2022-08-13T06:29:52.858503Z",
     "iopub.status.idle": "2022-08-13T06:29:52.862921Z",
     "shell.execute_reply": "2022-08-13T06:29:52.861797Z"
    },
    "papermill": {
     "duration": 0.015259,
     "end_time": "2022-08-13T06:29:52.865188",
     "exception": false,
     "start_time": "2022-08-13T06:29:52.849929",
     "status": "completed"
    },
    "tags": []
   },
   "outputs": [],
   "source": [
    "#q2.hint()\n",
    "#q2.solution()"
   ]
  },
  {
   "cell_type": "markdown",
   "id": "7806f326",
   "metadata": {
    "papermill": {
     "duration": 0.006487,
     "end_time": "2022-08-13T06:29:52.878658",
     "exception": false,
     "start_time": "2022-08-13T06:29:52.872171",
     "status": "completed"
    },
    "tags": []
   },
   "source": [
    "## 3.\n",
    "How often does each country appear in the dataset? Create a Series `reviews_per_country` mapping countries to the count of reviews of wines from that country."
   ]
  },
  {
   "cell_type": "code",
   "execution_count": 6,
   "id": "f01363d1",
   "metadata": {
    "execution": {
     "iopub.execute_input": "2022-08-13T06:29:52.894442Z",
     "iopub.status.busy": "2022-08-13T06:29:52.894049Z",
     "iopub.status.idle": "2022-08-13T06:29:52.912361Z",
     "shell.execute_reply": "2022-08-13T06:29:52.911294Z"
    },
    "papermill": {
     "duration": 0.029058,
     "end_time": "2022-08-13T06:29:52.914595",
     "exception": false,
     "start_time": "2022-08-13T06:29:52.885537",
     "status": "completed"
    },
    "tags": []
   },
   "outputs": [
    {
     "data": {
      "application/javascript": [
       "parent.postMessage({\"jupyterEvent\": \"custom.exercise_interaction\", \"data\": {\"outcomeType\": 1, \"valueTowardsCompletion\": 0.14285714285714285, \"interactionType\": 1, \"questionType\": 1, \"questionId\": \"3_ReviewsPerCountry\", \"learnToolsVersion\": \"0.3.4\", \"failureMessage\": \"\", \"exceptionClass\": \"\", \"trace\": \"\"}}, \"*\")"
      ],
      "text/plain": [
       "<IPython.core.display.Javascript object>"
      ]
     },
     "metadata": {},
     "output_type": "display_data"
    },
    {
     "data": {
      "text/markdown": [
       "<span style=\"color:#33cc33\">Correct</span>"
      ],
      "text/plain": [
       "Correct"
      ]
     },
     "metadata": {},
     "output_type": "display_data"
    }
   ],
   "source": [
    "reviews_per_country = reviews.country.value_counts()\n",
    "\n",
    "# Check your answer\n",
    "q3.check()"
   ]
  },
  {
   "cell_type": "code",
   "execution_count": 7,
   "id": "bb151661",
   "metadata": {
    "execution": {
     "iopub.execute_input": "2022-08-13T06:29:52.930978Z",
     "iopub.status.busy": "2022-08-13T06:29:52.930546Z",
     "iopub.status.idle": "2022-08-13T06:29:52.935688Z",
     "shell.execute_reply": "2022-08-13T06:29:52.934430Z"
    },
    "papermill": {
     "duration": 0.016194,
     "end_time": "2022-08-13T06:29:52.937990",
     "exception": false,
     "start_time": "2022-08-13T06:29:52.921796",
     "status": "completed"
    },
    "tags": []
   },
   "outputs": [],
   "source": [
    "#q3.hint()\n",
    "#q3.solution()"
   ]
  },
  {
   "cell_type": "markdown",
   "id": "ff61fe85",
   "metadata": {
    "papermill": {
     "duration": 0.006822,
     "end_time": "2022-08-13T06:29:52.952752",
     "exception": false,
     "start_time": "2022-08-13T06:29:52.945930",
     "status": "completed"
    },
    "tags": []
   },
   "source": [
    "## 4.\n",
    "Create variable `centered_price` containing a version of the `price` column with the mean price subtracted.\n",
    "\n",
    "(Note: this 'centering' transformation is a common preprocessing step before applying various machine learning algorithms.) "
   ]
  },
  {
   "cell_type": "code",
   "execution_count": 8,
   "id": "01766c4b",
   "metadata": {
    "execution": {
     "iopub.execute_input": "2022-08-13T06:29:52.969451Z",
     "iopub.status.busy": "2022-08-13T06:29:52.969053Z",
     "iopub.status.idle": "2022-08-13T06:29:52.979963Z",
     "shell.execute_reply": "2022-08-13T06:29:52.979198Z"
    },
    "papermill": {
     "duration": 0.021527,
     "end_time": "2022-08-13T06:29:52.982097",
     "exception": false,
     "start_time": "2022-08-13T06:29:52.960570",
     "status": "completed"
    },
    "tags": []
   },
   "outputs": [
    {
     "data": {
      "application/javascript": [
       "parent.postMessage({\"jupyterEvent\": \"custom.exercise_interaction\", \"data\": {\"outcomeType\": 1, \"valueTowardsCompletion\": 0.14285714285714285, \"interactionType\": 1, \"questionType\": 1, \"questionId\": \"4_CenteredPrice\", \"learnToolsVersion\": \"0.3.4\", \"failureMessage\": \"\", \"exceptionClass\": \"\", \"trace\": \"\"}}, \"*\")"
      ],
      "text/plain": [
       "<IPython.core.display.Javascript object>"
      ]
     },
     "metadata": {},
     "output_type": "display_data"
    },
    {
     "data": {
      "text/markdown": [
       "<span style=\"color:#33cc33\">Correct</span>"
      ],
      "text/plain": [
       "Correct"
      ]
     },
     "metadata": {},
     "output_type": "display_data"
    }
   ],
   "source": [
    "centered_price = reviews.price - reviews.price.mean()\n",
    "\n",
    "# Check your answer\n",
    "q4.check()"
   ]
  },
  {
   "cell_type": "code",
   "execution_count": 9,
   "id": "098f0c5e",
   "metadata": {
    "execution": {
     "iopub.execute_input": "2022-08-13T06:29:52.998922Z",
     "iopub.status.busy": "2022-08-13T06:29:52.998522Z",
     "iopub.status.idle": "2022-08-13T06:29:53.002434Z",
     "shell.execute_reply": "2022-08-13T06:29:53.001475Z"
    },
    "papermill": {
     "duration": 0.014834,
     "end_time": "2022-08-13T06:29:53.004468",
     "exception": false,
     "start_time": "2022-08-13T06:29:52.989634",
     "status": "completed"
    },
    "tags": []
   },
   "outputs": [],
   "source": [
    "#q4.hint()\n",
    "#q4.solution()"
   ]
  },
  {
   "cell_type": "markdown",
   "id": "0ae102d0",
   "metadata": {
    "papermill": {
     "duration": 0.007201,
     "end_time": "2022-08-13T06:29:53.019205",
     "exception": false,
     "start_time": "2022-08-13T06:29:53.012004",
     "status": "completed"
    },
    "tags": []
   },
   "source": [
    "## 5.\n",
    "I'm an economical wine buyer. Which wine is the \"best bargain\"? Create a variable `bargain_wine` with the title of the wine with the highest points-to-price ratio in the dataset."
   ]
  },
  {
   "cell_type": "code",
   "execution_count": 10,
   "id": "484f2116",
   "metadata": {
    "execution": {
     "iopub.execute_input": "2022-08-13T06:29:53.036497Z",
     "iopub.status.busy": "2022-08-13T06:29:53.035751Z",
     "iopub.status.idle": "2022-08-13T06:29:53.049159Z",
     "shell.execute_reply": "2022-08-13T06:29:53.048108Z"
    },
    "papermill": {
     "duration": 0.024658,
     "end_time": "2022-08-13T06:29:53.051409",
     "exception": false,
     "start_time": "2022-08-13T06:29:53.026751",
     "status": "completed"
    },
    "tags": []
   },
   "outputs": [
    {
     "data": {
      "application/javascript": [
       "parent.postMessage({\"jupyterEvent\": \"custom.exercise_interaction\", \"data\": {\"outcomeType\": 1, \"valueTowardsCompletion\": 0.14285714285714285, \"interactionType\": 1, \"questionType\": 2, \"questionId\": \"5_BargainWine\", \"learnToolsVersion\": \"0.3.4\", \"failureMessage\": \"\", \"exceptionClass\": \"\", \"trace\": \"\"}}, \"*\")"
      ],
      "text/plain": [
       "<IPython.core.display.Javascript object>"
      ]
     },
     "metadata": {},
     "output_type": "display_data"
    },
    {
     "data": {
      "text/markdown": [
       "<span style=\"color:#33cc33\">Correct</span>"
      ],
      "text/plain": [
       "Correct"
      ]
     },
     "metadata": {},
     "output_type": "display_data"
    }
   ],
   "source": [
    "bargain_idx = (reviews.points / reviews.price).idxmax()\n",
    "bargain_wine = reviews.loc[bargain_idx, 'title']\n",
    "\n",
    "# Check your answer\n",
    "q5.check()"
   ]
  },
  {
   "cell_type": "code",
   "execution_count": 11,
   "id": "6dee7f63",
   "metadata": {
    "execution": {
     "iopub.execute_input": "2022-08-13T06:29:53.068741Z",
     "iopub.status.busy": "2022-08-13T06:29:53.067759Z",
     "iopub.status.idle": "2022-08-13T06:29:53.071979Z",
     "shell.execute_reply": "2022-08-13T06:29:53.071133Z"
    },
    "papermill": {
     "duration": 0.015402,
     "end_time": "2022-08-13T06:29:53.074385",
     "exception": false,
     "start_time": "2022-08-13T06:29:53.058983",
     "status": "completed"
    },
    "tags": []
   },
   "outputs": [],
   "source": [
    "#q5.hint()\n",
    "#q5.solution()"
   ]
  },
  {
   "cell_type": "markdown",
   "id": "b0eb9041",
   "metadata": {
    "papermill": {
     "duration": 0.007399,
     "end_time": "2022-08-13T06:29:53.089681",
     "exception": false,
     "start_time": "2022-08-13T06:29:53.082282",
     "status": "completed"
    },
    "tags": []
   },
   "source": [
    "## 6.\n",
    "There are only so many words you can use when describing a bottle of wine. Is a wine more likely to be \"tropical\" or \"fruity\"? Create a Series `descriptor_counts` counting how many times each of these two words appears in the `description` column in the dataset. (For simplicity, let's ignore the capitalized versions of these words.)"
   ]
  },
  {
   "cell_type": "code",
   "execution_count": 12,
   "id": "8b67df61",
   "metadata": {
    "execution": {
     "iopub.execute_input": "2022-08-13T06:29:53.107070Z",
     "iopub.status.busy": "2022-08-13T06:29:53.106475Z",
     "iopub.status.idle": "2022-08-13T06:29:53.249202Z",
     "shell.execute_reply": "2022-08-13T06:29:53.248086Z"
    },
    "papermill": {
     "duration": 0.154425,
     "end_time": "2022-08-13T06:29:53.251788",
     "exception": false,
     "start_time": "2022-08-13T06:29:53.097363",
     "status": "completed"
    },
    "tags": []
   },
   "outputs": [
    {
     "data": {
      "application/javascript": [
       "parent.postMessage({\"jupyterEvent\": \"custom.exercise_interaction\", \"data\": {\"outcomeType\": 1, \"valueTowardsCompletion\": 0.14285714285714285, \"interactionType\": 1, \"questionType\": 1, \"questionId\": \"6_DescriptorCounts\", \"learnToolsVersion\": \"0.3.4\", \"failureMessage\": \"\", \"exceptionClass\": \"\", \"trace\": \"\"}}, \"*\")"
      ],
      "text/plain": [
       "<IPython.core.display.Javascript object>"
      ]
     },
     "metadata": {},
     "output_type": "display_data"
    },
    {
     "data": {
      "text/markdown": [
       "<span style=\"color:#33cc33\">Correct</span>"
      ],
      "text/plain": [
       "Correct"
      ]
     },
     "metadata": {},
     "output_type": "display_data"
    }
   ],
   "source": [
    "n_trop = reviews.description.map(lambda desc: \"tropical\" in desc).sum()\n",
    "n_fruity = reviews.description.map(lambda desc: \"fruity\" in desc).sum()\n",
    "descriptor_counts = pd.Series([n_trop, n_fruity], index=['tropical', 'fruity'])\n",
    "\n",
    "# Check your answer\n",
    "q6.check()"
   ]
  },
  {
   "cell_type": "code",
   "execution_count": 13,
   "id": "aabd59e9",
   "metadata": {
    "execution": {
     "iopub.execute_input": "2022-08-13T06:29:53.269935Z",
     "iopub.status.busy": "2022-08-13T06:29:53.269318Z",
     "iopub.status.idle": "2022-08-13T06:29:53.273510Z",
     "shell.execute_reply": "2022-08-13T06:29:53.272455Z"
    },
    "papermill": {
     "duration": 0.016035,
     "end_time": "2022-08-13T06:29:53.275897",
     "exception": false,
     "start_time": "2022-08-13T06:29:53.259862",
     "status": "completed"
    },
    "tags": []
   },
   "outputs": [],
   "source": [
    "#q6.hint()\n",
    "#q6.solution()"
   ]
  },
  {
   "cell_type": "markdown",
   "id": "9b82ccda",
   "metadata": {
    "papermill": {
     "duration": 0.007684,
     "end_time": "2022-08-13T06:29:53.291470",
     "exception": false,
     "start_time": "2022-08-13T06:29:53.283786",
     "status": "completed"
    },
    "tags": []
   },
   "source": [
    "## 7.\n",
    "We'd like to host these wine reviews on our website, but a rating system ranging from 80 to 100 points is too hard to understand - we'd like to translate them into simple star ratings. A score of 95 or higher counts as 3 stars, a score of at least 85 but less than 95 is 2 stars. Any other score is 1 star.\n",
    "\n",
    "Also, the Canadian Vintners Association bought a lot of ads on the site, so any wines from Canada should automatically get 3 stars, regardless of points.\n",
    "\n",
    "Create a series `star_ratings` with the number of stars corresponding to each review in the dataset."
   ]
  },
  {
   "cell_type": "code",
   "execution_count": 14,
   "id": "0640ae37",
   "metadata": {
    "execution": {
     "iopub.execute_input": "2022-08-13T06:29:53.310057Z",
     "iopub.status.busy": "2022-08-13T06:29:53.309277Z",
     "iopub.status.idle": "2022-08-13T06:29:57.278905Z",
     "shell.execute_reply": "2022-08-13T06:29:57.277906Z"
    },
    "papermill": {
     "duration": 3.981906,
     "end_time": "2022-08-13T06:29:57.281345",
     "exception": false,
     "start_time": "2022-08-13T06:29:53.299439",
     "status": "completed"
    },
    "tags": []
   },
   "outputs": [
    {
     "data": {
      "application/javascript": [
       "parent.postMessage({\"jupyterEvent\": \"custom.exercise_interaction\", \"data\": {\"outcomeType\": 1, \"valueTowardsCompletion\": 0.14285714285714285, \"interactionType\": 1, \"questionType\": 1, \"questionId\": \"7_StarRatings\", \"learnToolsVersion\": \"0.3.4\", \"failureMessage\": \"\", \"exceptionClass\": \"\", \"trace\": \"\"}}, \"*\")"
      ],
      "text/plain": [
       "<IPython.core.display.Javascript object>"
      ]
     },
     "metadata": {},
     "output_type": "display_data"
    },
    {
     "data": {
      "text/markdown": [
       "<span style=\"color:#33cc33\">Correct</span>"
      ],
      "text/plain": [
       "Correct"
      ]
     },
     "metadata": {},
     "output_type": "display_data"
    }
   ],
   "source": [
    "def stars(row):\n",
    "    if row.country == 'Canada':\n",
    "        return 3\n",
    "    elif row.points >= 95:\n",
    "        return 3\n",
    "    elif row.points >= 85:\n",
    "        return 2\n",
    "    else:\n",
    "        return 1\n",
    "\n",
    "star_ratings = reviews.apply(stars, axis='columns')\n",
    "\n",
    "# Check your answer\n",
    "q7.check()"
   ]
  },
  {
   "cell_type": "code",
   "execution_count": 15,
   "id": "7d50c98b",
   "metadata": {
    "execution": {
     "iopub.execute_input": "2022-08-13T06:29:57.300252Z",
     "iopub.status.busy": "2022-08-13T06:29:57.299608Z",
     "iopub.status.idle": "2022-08-13T06:29:57.303325Z",
     "shell.execute_reply": "2022-08-13T06:29:57.302410Z"
    },
    "papermill": {
     "duration": 0.015855,
     "end_time": "2022-08-13T06:29:57.305659",
     "exception": false,
     "start_time": "2022-08-13T06:29:57.289804",
     "status": "completed"
    },
    "tags": []
   },
   "outputs": [],
   "source": [
    "#q7.hint()\n",
    "#q7.solution()"
   ]
  },
  {
   "cell_type": "markdown",
   "id": "f59533b3",
   "metadata": {
    "papermill": {
     "duration": 0.007776,
     "end_time": "2022-08-13T06:29:57.321651",
     "exception": false,
     "start_time": "2022-08-13T06:29:57.313875",
     "status": "completed"
    },
    "tags": []
   },
   "source": [
    "# Keep going\n",
    "Continue to **[grouping and sorting](https://www.kaggle.com/residentmario/grouping-and-sorting)**."
   ]
  },
  {
   "cell_type": "markdown",
   "id": "f54d40a3",
   "metadata": {
    "papermill": {
     "duration": 0.008062,
     "end_time": "2022-08-13T06:29:57.338259",
     "exception": false,
     "start_time": "2022-08-13T06:29:57.330197",
     "status": "completed"
    },
    "tags": []
   },
   "source": [
    "---\n",
    "\n",
    "\n",
    "\n",
    "\n",
    "*Have questions or comments? Visit the [course discussion forum](https://www.kaggle.com/learn/pandas/discussion) to chat with other learners.*"
   ]
  }
 ],
 "metadata": {
  "kernelspec": {
   "display_name": "Python 3",
   "language": "python",
   "name": "python3"
  },
  "language_info": {
   "codemirror_mode": {
    "name": "ipython",
    "version": 3
   },
   "file_extension": ".py",
   "mimetype": "text/x-python",
   "name": "python",
   "nbconvert_exporter": "python",
   "pygments_lexer": "ipython3",
   "version": "3.7.12"
  },
  "papermill": {
   "default_parameters": {},
   "duration": 21.804053,
   "end_time": "2022-08-13T06:29:58.069187",
   "environment_variables": {},
   "exception": null,
   "input_path": "__notebook__.ipynb",
   "output_path": "__notebook__.ipynb",
   "parameters": {},
   "start_time": "2022-08-13T06:29:36.265134",
   "version": "2.3.4"
  }
 },
 "nbformat": 4,
 "nbformat_minor": 5
}
