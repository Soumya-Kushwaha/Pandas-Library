{
 "cells": [
  {
   "cell_type": "markdown",
   "id": "39f91ee2",
   "metadata": {
    "papermill": {
     "duration": 0.007606,
     "end_time": "2022-08-13T10:22:09.892912",
     "exception": false,
     "start_time": "2022-08-13T10:22:09.885306",
     "status": "completed"
    },
    "tags": []
   },
   "source": [
    "**This notebook is an exercise in the [Pandas](https://www.kaggle.com/learn/pandas) course.  You can reference the tutorial at [this link](https://www.kaggle.com/residentmario/grouping-and-sorting).**\n",
    "\n",
    "---\n"
   ]
  },
  {
   "cell_type": "markdown",
   "id": "cee9519a",
   "metadata": {
    "papermill": {
     "duration": 0.005484,
     "end_time": "2022-08-13T10:22:09.904410",
     "exception": false,
     "start_time": "2022-08-13T10:22:09.898926",
     "status": "completed"
    },
    "tags": []
   },
   "source": [
    "# Introduction\n",
    "\n",
    "In these exercises we'll apply groupwise analysis to our dataset.\n",
    "\n",
    "Run the code cell below to load the data before running the exercises."
   ]
  },
  {
   "cell_type": "code",
   "execution_count": 1,
   "id": "ff77dfac",
   "metadata": {
    "execution": {
     "iopub.execute_input": "2022-08-13T10:22:09.918739Z",
     "iopub.status.busy": "2022-08-13T10:22:09.917452Z",
     "iopub.status.idle": "2022-08-13T10:22:12.773199Z",
     "shell.execute_reply": "2022-08-13T10:22:12.772004Z"
    },
    "papermill": {
     "duration": 2.865737,
     "end_time": "2022-08-13T10:22:12.776032",
     "exception": false,
     "start_time": "2022-08-13T10:22:09.910295",
     "status": "completed"
    },
    "tags": []
   },
   "outputs": [
    {
     "name": "stdout",
     "output_type": "stream",
     "text": [
      "Setup complete.\n"
     ]
    }
   ],
   "source": [
    "import pandas as pd\n",
    "\n",
    "reviews = pd.read_csv(\"../input/wine-reviews/winemag-data-130k-v2.csv\", index_col=0)\n",
    "#pd.set_option(\"display.max_rows\", 5)\n",
    "\n",
    "from learntools.core import binder; binder.bind(globals())\n",
    "from learntools.pandas.grouping_and_sorting import *\n",
    "print(\"Setup complete.\")"
   ]
  },
  {
   "cell_type": "markdown",
   "id": "839c59b5",
   "metadata": {
    "papermill": {
     "duration": 0.005983,
     "end_time": "2022-08-13T10:22:12.788449",
     "exception": false,
     "start_time": "2022-08-13T10:22:12.782466",
     "status": "completed"
    },
    "tags": []
   },
   "source": [
    "# Exercises"
   ]
  },
  {
   "cell_type": "markdown",
   "id": "d5dd4788",
   "metadata": {
    "papermill": {
     "duration": 0.007618,
     "end_time": "2022-08-13T10:22:12.801905",
     "exception": false,
     "start_time": "2022-08-13T10:22:12.794287",
     "status": "completed"
    },
    "tags": []
   },
   "source": [
    "## 1.\n",
    "Who are the most common wine reviewers in the dataset? Create a `Series` whose index is the `taster_twitter_handle` category from the dataset, and whose values count how many reviews each person wrote."
   ]
  },
  {
   "cell_type": "code",
   "execution_count": 2,
   "id": "a50c5586",
   "metadata": {
    "execution": {
     "iopub.execute_input": "2022-08-13T10:22:12.818078Z",
     "iopub.status.busy": "2022-08-13T10:22:12.817457Z",
     "iopub.status.idle": "2022-08-13T10:22:12.842740Z",
     "shell.execute_reply": "2022-08-13T10:22:12.841547Z"
    },
    "papermill": {
     "duration": 0.035077,
     "end_time": "2022-08-13T10:22:12.845028",
     "exception": false,
     "start_time": "2022-08-13T10:22:12.809951",
     "status": "completed"
    },
    "tags": []
   },
   "outputs": [
    {
     "data": {
      "application/javascript": [
       "parent.postMessage({\"jupyterEvent\": \"custom.exercise_interaction\", \"data\": {\"outcomeType\": 1, \"valueTowardsCompletion\": 0.16666666666666666, \"interactionType\": 1, \"questionType\": 1, \"questionId\": \"1_ReviewsWritten\", \"learnToolsVersion\": \"0.3.4\", \"failureMessage\": \"\", \"exceptionClass\": \"\", \"trace\": \"\"}}, \"*\")"
      ],
      "text/plain": [
       "<IPython.core.display.Javascript object>"
      ]
     },
     "metadata": {},
     "output_type": "display_data"
    },
    {
     "data": {
      "text/markdown": [
       "<span style=\"color:#33cc33\">Correct:</span> \n",
       "\n",
       "\n",
       "```python\n",
       "reviews_written = reviews.groupby('taster_twitter_handle').size()\n",
       "```\n",
       "or\n",
       "```python\n",
       "reviews_written = reviews.groupby('taster_twitter_handle').taster_twitter_handle.count()\n",
       "```\n"
      ],
      "text/plain": [
       "Correct: \n",
       "\n",
       "\n",
       "```python\n",
       "reviews_written = reviews.groupby('taster_twitter_handle').size()\n",
       "```\n",
       "or\n",
       "```python\n",
       "reviews_written = reviews.groupby('taster_twitter_handle').taster_twitter_handle.count()\n",
       "```"
      ]
     },
     "metadata": {},
     "output_type": "display_data"
    }
   ],
   "source": [
    "# Your code here\n",
    "reviews_written = reviews.groupby('taster_twitter_handle').points.count()\n",
    "\n",
    "# Check your answer\n",
    "q1.check()"
   ]
  },
  {
   "cell_type": "code",
   "execution_count": 3,
   "id": "815a70e8",
   "metadata": {
    "execution": {
     "iopub.execute_input": "2022-08-13T10:22:12.859354Z",
     "iopub.status.busy": "2022-08-13T10:22:12.858916Z",
     "iopub.status.idle": "2022-08-13T10:22:12.863182Z",
     "shell.execute_reply": "2022-08-13T10:22:12.862216Z"
    },
    "papermill": {
     "duration": 0.014369,
     "end_time": "2022-08-13T10:22:12.865720",
     "exception": false,
     "start_time": "2022-08-13T10:22:12.851351",
     "status": "completed"
    },
    "tags": []
   },
   "outputs": [],
   "source": [
    "#q1.hint()\n",
    "#q1.solution()"
   ]
  },
  {
   "cell_type": "markdown",
   "id": "eb842c51",
   "metadata": {
    "papermill": {
     "duration": 0.007745,
     "end_time": "2022-08-13T10:22:12.882280",
     "exception": false,
     "start_time": "2022-08-13T10:22:12.874535",
     "status": "completed"
    },
    "tags": []
   },
   "source": [
    "## 2.\n",
    "What is the best wine I can buy for a given amount of money? Create a `Series` whose index is wine prices and whose values is the maximum number of points a wine costing that much was given in a review. Sort the values by price, ascending (so that `4.0` dollars is at the top and `3300.0` dollars is at the bottom)."
   ]
  },
  {
   "cell_type": "code",
   "execution_count": 4,
   "id": "6eb5a7ef",
   "metadata": {
    "execution": {
     "iopub.execute_input": "2022-08-13T10:22:12.897370Z",
     "iopub.status.busy": "2022-08-13T10:22:12.896561Z",
     "iopub.status.idle": "2022-08-13T10:22:12.912106Z",
     "shell.execute_reply": "2022-08-13T10:22:12.911223Z"
    },
    "papermill": {
     "duration": 0.026039,
     "end_time": "2022-08-13T10:22:12.914751",
     "exception": false,
     "start_time": "2022-08-13T10:22:12.888712",
     "status": "completed"
    },
    "tags": []
   },
   "outputs": [
    {
     "data": {
      "application/javascript": [
       "parent.postMessage({\"jupyterEvent\": \"custom.exercise_interaction\", \"data\": {\"outcomeType\": 1, \"valueTowardsCompletion\": 0.16666666666666666, \"interactionType\": 1, \"questionType\": 1, \"questionId\": \"2_BestRatingPerPrice\", \"learnToolsVersion\": \"0.3.4\", \"failureMessage\": \"\", \"exceptionClass\": \"\", \"trace\": \"\"}}, \"*\")"
      ],
      "text/plain": [
       "<IPython.core.display.Javascript object>"
      ]
     },
     "metadata": {},
     "output_type": "display_data"
    },
    {
     "data": {
      "text/markdown": [
       "<span style=\"color:#33cc33\">Correct</span>"
      ],
      "text/plain": [
       "Correct"
      ]
     },
     "metadata": {},
     "output_type": "display_data"
    }
   ],
   "source": [
    "best_rating_per_price = reviews.groupby('price')['points'].max().sort_index()\n",
    "\n",
    "# Check your answer\n",
    "q2.check()"
   ]
  },
  {
   "cell_type": "code",
   "execution_count": 5,
   "id": "11abce13",
   "metadata": {
    "execution": {
     "iopub.execute_input": "2022-08-13T10:22:12.934492Z",
     "iopub.status.busy": "2022-08-13T10:22:12.933826Z",
     "iopub.status.idle": "2022-08-13T10:22:12.947754Z",
     "shell.execute_reply": "2022-08-13T10:22:12.946778Z"
    },
    "papermill": {
     "duration": 0.026893,
     "end_time": "2022-08-13T10:22:12.950748",
     "exception": false,
     "start_time": "2022-08-13T10:22:12.923855",
     "status": "completed"
    },
    "tags": []
   },
   "outputs": [
    {
     "data": {
      "application/javascript": [
       "parent.postMessage({\"jupyterEvent\": \"custom.exercise_interaction\", \"data\": {\"interactionType\": 2, \"questionType\": 1, \"questionId\": \"2_BestRatingPerPrice\", \"learnToolsVersion\": \"0.3.4\", \"valueTowardsCompletion\": 0.0, \"failureMessage\": \"\", \"exceptionClass\": \"\", \"trace\": \"\", \"outcomeType\": 4}}, \"*\")"
      ],
      "text/plain": [
       "<IPython.core.display.Javascript object>"
      ]
     },
     "metadata": {},
     "output_type": "display_data"
    },
    {
     "data": {
      "text/markdown": [
       "<span style=\"color:#3366cc\">Hint:</span> Use `max()` and `sort_index()`.  The relevant columns in the DataFrame are `price` and `points`."
      ],
      "text/plain": [
       "Hint: Use `max()` and `sort_index()`.  The relevant columns in the DataFrame are `price` and `points`."
      ]
     },
     "metadata": {},
     "output_type": "display_data"
    },
    {
     "data": {
      "application/javascript": [
       "parent.postMessage({\"jupyterEvent\": \"custom.exercise_interaction\", \"data\": {\"interactionType\": 3, \"questionType\": 1, \"questionId\": \"2_BestRatingPerPrice\", \"learnToolsVersion\": \"0.3.4\", \"valueTowardsCompletion\": 0.0, \"failureMessage\": \"\", \"exceptionClass\": \"\", \"trace\": \"\", \"outcomeType\": 4}}, \"*\")"
      ],
      "text/plain": [
       "<IPython.core.display.Javascript object>"
      ]
     },
     "metadata": {},
     "output_type": "display_data"
    },
    {
     "data": {
      "text/markdown": [
       "<span style=\"color:#33cc99\">Solution:</span> \n",
       "```python\n",
       "best_rating_per_price = reviews.groupby('price')['points'].max().sort_index()\n",
       "```"
      ],
      "text/plain": [
       "Solution: \n",
       "```python\n",
       "best_rating_per_price = reviews.groupby('price')['points'].max().sort_index()\n",
       "```"
      ]
     },
     "metadata": {},
     "output_type": "display_data"
    }
   ],
   "source": [
    "q2.hint()\n",
    "q2.solution()"
   ]
  },
  {
   "cell_type": "markdown",
   "id": "73841c32",
   "metadata": {
    "papermill": {
     "duration": 0.007495,
     "end_time": "2022-08-13T10:22:12.968260",
     "exception": false,
     "start_time": "2022-08-13T10:22:12.960765",
     "status": "completed"
    },
    "tags": []
   },
   "source": [
    "## 3.\n",
    "What are the minimum and maximum prices for each `variety` of wine? Create a `DataFrame` whose index is the `variety` category from the dataset and whose values are the `min` and `max` values thereof."
   ]
  },
  {
   "cell_type": "code",
   "execution_count": 6,
   "id": "123d84a2",
   "metadata": {
    "execution": {
     "iopub.execute_input": "2022-08-13T10:22:12.986387Z",
     "iopub.status.busy": "2022-08-13T10:22:12.985389Z",
     "iopub.status.idle": "2022-08-13T10:22:13.016299Z",
     "shell.execute_reply": "2022-08-13T10:22:13.015204Z"
    },
    "papermill": {
     "duration": 0.043749,
     "end_time": "2022-08-13T10:22:13.018972",
     "exception": false,
     "start_time": "2022-08-13T10:22:12.975223",
     "status": "completed"
    },
    "tags": []
   },
   "outputs": [
    {
     "data": {
      "application/javascript": [
       "parent.postMessage({\"jupyterEvent\": \"custom.exercise_interaction\", \"data\": {\"outcomeType\": 1, \"valueTowardsCompletion\": 0.16666666666666666, \"interactionType\": 1, \"questionType\": 1, \"questionId\": \"3_PriceExtremes\", \"learnToolsVersion\": \"0.3.4\", \"failureMessage\": \"\", \"exceptionClass\": \"\", \"trace\": \"\"}}, \"*\")"
      ],
      "text/plain": [
       "<IPython.core.display.Javascript object>"
      ]
     },
     "metadata": {},
     "output_type": "display_data"
    },
    {
     "data": {
      "text/markdown": [
       "<span style=\"color:#33cc33\">Correct</span>"
      ],
      "text/plain": [
       "Correct"
      ]
     },
     "metadata": {},
     "output_type": "display_data"
    }
   ],
   "source": [
    "price_extremes = reviews.groupby('variety').price.agg(['min','max'])\n",
    "\n",
    "# Check your answer\n",
    "q3.check()"
   ]
  },
  {
   "cell_type": "code",
   "execution_count": 7,
   "id": "f03e79c8",
   "metadata": {
    "execution": {
     "iopub.execute_input": "2022-08-13T10:22:13.043452Z",
     "iopub.status.busy": "2022-08-13T10:22:13.042543Z",
     "iopub.status.idle": "2022-08-13T10:22:13.047897Z",
     "shell.execute_reply": "2022-08-13T10:22:13.046494Z"
    },
    "papermill": {
     "duration": 0.023975,
     "end_time": "2022-08-13T10:22:13.053444",
     "exception": false,
     "start_time": "2022-08-13T10:22:13.029469",
     "status": "completed"
    },
    "tags": []
   },
   "outputs": [],
   "source": [
    "#q3.hint()\n",
    "#q3.solution()"
   ]
  },
  {
   "cell_type": "markdown",
   "id": "ffb86ffb",
   "metadata": {
    "papermill": {
     "duration": 0.009972,
     "end_time": "2022-08-13T10:22:13.073861",
     "exception": false,
     "start_time": "2022-08-13T10:22:13.063889",
     "status": "completed"
    },
    "tags": []
   },
   "source": [
    "## 4.\n",
    "What are the most expensive wine varieties? Create a variable `sorted_varieties` containing a copy of the dataframe from the previous question where varieties are sorted in descending order based on minimum price, then on maximum price (to break ties)."
   ]
  },
  {
   "cell_type": "code",
   "execution_count": 8,
   "id": "c4204b76",
   "metadata": {
    "execution": {
     "iopub.execute_input": "2022-08-13T10:22:13.098116Z",
     "iopub.status.busy": "2022-08-13T10:22:13.097265Z",
     "iopub.status.idle": "2022-08-13T10:22:13.109494Z",
     "shell.execute_reply": "2022-08-13T10:22:13.108296Z"
    },
    "papermill": {
     "duration": 0.029748,
     "end_time": "2022-08-13T10:22:13.114061",
     "exception": false,
     "start_time": "2022-08-13T10:22:13.084313",
     "status": "completed"
    },
    "tags": []
   },
   "outputs": [
    {
     "data": {
      "application/javascript": [
       "parent.postMessage({\"jupyterEvent\": \"custom.exercise_interaction\", \"data\": {\"outcomeType\": 1, \"valueTowardsCompletion\": 0.16666666666666666, \"interactionType\": 1, \"questionType\": 1, \"questionId\": \"4_SortedVarieties\", \"learnToolsVersion\": \"0.3.4\", \"failureMessage\": \"\", \"exceptionClass\": \"\", \"trace\": \"\"}}, \"*\")"
      ],
      "text/plain": [
       "<IPython.core.display.Javascript object>"
      ]
     },
     "metadata": {},
     "output_type": "display_data"
    },
    {
     "data": {
      "text/markdown": [
       "<span style=\"color:#33cc33\">Correct</span>"
      ],
      "text/plain": [
       "Correct"
      ]
     },
     "metadata": {},
     "output_type": "display_data"
    }
   ],
   "source": [
    "sorted_varieties = price_extremes.sort_values(by=['min', 'max'], ascending = False)\n",
    "\n",
    "# Check your answer\n",
    "q4.check()"
   ]
  },
  {
   "cell_type": "code",
   "execution_count": 9,
   "id": "e1e9b39d",
   "metadata": {
    "execution": {
     "iopub.execute_input": "2022-08-13T10:22:13.133653Z",
     "iopub.status.busy": "2022-08-13T10:22:13.133034Z",
     "iopub.status.idle": "2022-08-13T10:22:13.148167Z",
     "shell.execute_reply": "2022-08-13T10:22:13.147219Z"
    },
    "papermill": {
     "duration": 0.0282,
     "end_time": "2022-08-13T10:22:13.151028",
     "exception": false,
     "start_time": "2022-08-13T10:22:13.122828",
     "status": "completed"
    },
    "tags": []
   },
   "outputs": [
    {
     "data": {
      "application/javascript": [
       "parent.postMessage({\"jupyterEvent\": \"custom.exercise_interaction\", \"data\": {\"interactionType\": 2, \"questionType\": 1, \"questionId\": \"4_SortedVarieties\", \"learnToolsVersion\": \"0.3.4\", \"valueTowardsCompletion\": 0.0, \"failureMessage\": \"\", \"exceptionClass\": \"\", \"trace\": \"\", \"outcomeType\": 4}}, \"*\")"
      ],
      "text/plain": [
       "<IPython.core.display.Javascript object>"
      ]
     },
     "metadata": {},
     "output_type": "display_data"
    },
    {
     "data": {
      "text/markdown": [
       "<span style=\"color:#3366cc\">Hint:</span> Use `sort_values()`, and provide a list of names to sort by."
      ],
      "text/plain": [
       "Hint: Use `sort_values()`, and provide a list of names to sort by."
      ]
     },
     "metadata": {},
     "output_type": "display_data"
    },
    {
     "data": {
      "application/javascript": [
       "parent.postMessage({\"jupyterEvent\": \"custom.exercise_interaction\", \"data\": {\"interactionType\": 3, \"questionType\": 1, \"questionId\": \"4_SortedVarieties\", \"learnToolsVersion\": \"0.3.4\", \"valueTowardsCompletion\": 0.0, \"failureMessage\": \"\", \"exceptionClass\": \"\", \"trace\": \"\", \"outcomeType\": 4}}, \"*\")"
      ],
      "text/plain": [
       "<IPython.core.display.Javascript object>"
      ]
     },
     "metadata": {},
     "output_type": "display_data"
    },
    {
     "data": {
      "text/markdown": [
       "<span style=\"color:#33cc99\">Solution:</span> \n",
       "```python\n",
       "sorted_varieties = price_extremes.sort_values(by=['min', 'max'], ascending=False)\n",
       "```"
      ],
      "text/plain": [
       "Solution: \n",
       "```python\n",
       "sorted_varieties = price_extremes.sort_values(by=['min', 'max'], ascending=False)\n",
       "```"
      ]
     },
     "metadata": {},
     "output_type": "display_data"
    }
   ],
   "source": [
    "q4.hint()\n",
    "q4.solution()"
   ]
  },
  {
   "cell_type": "markdown",
   "id": "123f46f2",
   "metadata": {
    "papermill": {
     "duration": 0.009656,
     "end_time": "2022-08-13T10:22:13.172783",
     "exception": false,
     "start_time": "2022-08-13T10:22:13.163127",
     "status": "completed"
    },
    "tags": []
   },
   "source": [
    "## 5.\n",
    "Create a `Series` whose index is reviewers and whose values is the average review score given out by that reviewer. Hint: you will need the `taster_name` and `points` columns."
   ]
  },
  {
   "cell_type": "code",
   "execution_count": 10,
   "id": "35c965ac",
   "metadata": {
    "execution": {
     "iopub.execute_input": "2022-08-13T10:22:13.191373Z",
     "iopub.status.busy": "2022-08-13T10:22:13.190474Z",
     "iopub.status.idle": "2022-08-13T10:22:13.215351Z",
     "shell.execute_reply": "2022-08-13T10:22:13.214507Z"
    },
    "papermill": {
     "duration": 0.03703,
     "end_time": "2022-08-13T10:22:13.217944",
     "exception": false,
     "start_time": "2022-08-13T10:22:13.180914",
     "status": "completed"
    },
    "tags": []
   },
   "outputs": [
    {
     "data": {
      "application/javascript": [
       "parent.postMessage({\"jupyterEvent\": \"custom.exercise_interaction\", \"data\": {\"outcomeType\": 1, \"valueTowardsCompletion\": 0.16666666666666666, \"interactionType\": 1, \"questionType\": 1, \"questionId\": \"5_ReviewerMeanRatings\", \"learnToolsVersion\": \"0.3.4\", \"failureMessage\": \"\", \"exceptionClass\": \"\", \"trace\": \"\"}}, \"*\")"
      ],
      "text/plain": [
       "<IPython.core.display.Javascript object>"
      ]
     },
     "metadata": {},
     "output_type": "display_data"
    },
    {
     "data": {
      "text/markdown": [
       "<span style=\"color:#33cc33\">Correct</span>"
      ],
      "text/plain": [
       "Correct"
      ]
     },
     "metadata": {},
     "output_type": "display_data"
    }
   ],
   "source": [
    "reviewer_mean_ratings = reviews.groupby('taster_name').points.mean()\n",
    "\n",
    "# Check your answer\n",
    "q5.check()"
   ]
  },
  {
   "cell_type": "code",
   "execution_count": 11,
   "id": "c0a6c227",
   "metadata": {
    "execution": {
     "iopub.execute_input": "2022-08-13T10:22:13.240459Z",
     "iopub.status.busy": "2022-08-13T10:22:13.239702Z",
     "iopub.status.idle": "2022-08-13T10:22:13.244314Z",
     "shell.execute_reply": "2022-08-13T10:22:13.243414Z"
    },
    "papermill": {
     "duration": 0.016506,
     "end_time": "2022-08-13T10:22:13.246537",
     "exception": false,
     "start_time": "2022-08-13T10:22:13.230031",
     "status": "completed"
    },
    "tags": []
   },
   "outputs": [],
   "source": [
    "#q5.hint()\n",
    "#q5.solution()"
   ]
  },
  {
   "cell_type": "markdown",
   "id": "9495b203",
   "metadata": {
    "papermill": {
     "duration": 0.007637,
     "end_time": "2022-08-13T10:22:13.262101",
     "exception": false,
     "start_time": "2022-08-13T10:22:13.254464",
     "status": "completed"
    },
    "tags": []
   },
   "source": [
    "Are there significant differences in the average scores assigned by the various reviewers? Run the cell below to use the `describe()` method to see a summary of the range of values."
   ]
  },
  {
   "cell_type": "code",
   "execution_count": 12,
   "id": "2aa3a16c",
   "metadata": {
    "execution": {
     "iopub.execute_input": "2022-08-13T10:22:13.280265Z",
     "iopub.status.busy": "2022-08-13T10:22:13.279458Z",
     "iopub.status.idle": "2022-08-13T10:22:13.294088Z",
     "shell.execute_reply": "2022-08-13T10:22:13.292823Z"
    },
    "papermill": {
     "duration": 0.026656,
     "end_time": "2022-08-13T10:22:13.296709",
     "exception": false,
     "start_time": "2022-08-13T10:22:13.270053",
     "status": "completed"
    },
    "tags": []
   },
   "outputs": [
    {
     "data": {
      "text/plain": [
       "count    19.000000\n",
       "mean     88.233026\n",
       "std       1.243610\n",
       "min      85.855422\n",
       "25%      87.323501\n",
       "50%      88.536235\n",
       "75%      88.975256\n",
       "max      90.562551\n",
       "Name: points, dtype: float64"
      ]
     },
     "execution_count": 12,
     "metadata": {},
     "output_type": "execute_result"
    }
   ],
   "source": [
    "reviewer_mean_ratings.describe()"
   ]
  },
  {
   "cell_type": "markdown",
   "id": "5f7ebec0",
   "metadata": {
    "papermill": {
     "duration": 0.007799,
     "end_time": "2022-08-13T10:22:13.312970",
     "exception": false,
     "start_time": "2022-08-13T10:22:13.305171",
     "status": "completed"
    },
    "tags": []
   },
   "source": [
    "## 6.\n",
    "What combination of countries and varieties are most common? Create a `Series` whose index is a `MultiIndex`of `{country, variety}` pairs. For example, a pinot noir produced in the US should map to `{\"US\", \"Pinot Noir\"}`. Sort the values in the `Series` in descending order based on wine count."
   ]
  },
  {
   "cell_type": "code",
   "execution_count": 13,
   "id": "f4068efb",
   "metadata": {
    "execution": {
     "iopub.execute_input": "2022-08-13T10:22:13.332214Z",
     "iopub.status.busy": "2022-08-13T10:22:13.331384Z",
     "iopub.status.idle": "2022-08-13T10:22:13.367317Z",
     "shell.execute_reply": "2022-08-13T10:22:13.366291Z"
    },
    "papermill": {
     "duration": 0.04826,
     "end_time": "2022-08-13T10:22:13.369737",
     "exception": false,
     "start_time": "2022-08-13T10:22:13.321477",
     "status": "completed"
    },
    "tags": []
   },
   "outputs": [
    {
     "data": {
      "application/javascript": [
       "parent.postMessage({\"jupyterEvent\": \"custom.exercise_interaction\", \"data\": {\"outcomeType\": 1, \"valueTowardsCompletion\": 0.16666666666666666, \"interactionType\": 1, \"questionType\": 1, \"questionId\": \"6_GroupbyCountryVariety\", \"learnToolsVersion\": \"0.3.4\", \"failureMessage\": \"\", \"exceptionClass\": \"\", \"trace\": \"\"}}, \"*\")"
      ],
      "text/plain": [
       "<IPython.core.display.Javascript object>"
      ]
     },
     "metadata": {},
     "output_type": "display_data"
    },
    {
     "data": {
      "text/markdown": [
       "<span style=\"color:#33cc33\">Correct</span>"
      ],
      "text/plain": [
       "Correct"
      ]
     },
     "metadata": {},
     "output_type": "display_data"
    }
   ],
   "source": [
    "country_variety_counts = reviews.groupby(['country','variety']).size().sort_values(ascending=False)\n",
    "\n",
    "# Check your answer\n",
    "q6.check()"
   ]
  },
  {
   "cell_type": "code",
   "execution_count": 14,
   "id": "d6cab1c2",
   "metadata": {
    "execution": {
     "iopub.execute_input": "2022-08-13T10:22:13.388832Z",
     "iopub.status.busy": "2022-08-13T10:22:13.388020Z",
     "iopub.status.idle": "2022-08-13T10:22:13.397419Z",
     "shell.execute_reply": "2022-08-13T10:22:13.396455Z"
    },
    "papermill": {
     "duration": 0.021642,
     "end_time": "2022-08-13T10:22:13.399717",
     "exception": false,
     "start_time": "2022-08-13T10:22:13.378075",
     "status": "completed"
    },
    "tags": []
   },
   "outputs": [
    {
     "data": {
      "application/javascript": [
       "parent.postMessage({\"jupyterEvent\": \"custom.exercise_interaction\", \"data\": {\"interactionType\": 3, \"questionType\": 1, \"questionId\": \"6_GroupbyCountryVariety\", \"learnToolsVersion\": \"0.3.4\", \"valueTowardsCompletion\": 0.0, \"failureMessage\": \"\", \"exceptionClass\": \"\", \"trace\": \"\", \"outcomeType\": 4}}, \"*\")"
      ],
      "text/plain": [
       "<IPython.core.display.Javascript object>"
      ]
     },
     "metadata": {},
     "output_type": "display_data"
    },
    {
     "data": {
      "text/markdown": [
       "<span style=\"color:#33cc99\">Solution:</span> \n",
       "```python\n",
       "country_variety_counts = reviews.groupby(['country', 'variety']).size().sort_values(ascending=False)\n",
       "```"
      ],
      "text/plain": [
       "Solution: \n",
       "```python\n",
       "country_variety_counts = reviews.groupby(['country', 'variety']).size().sort_values(ascending=False)\n",
       "```"
      ]
     },
     "metadata": {},
     "output_type": "display_data"
    }
   ],
   "source": [
    "#q6.hint()\n",
    "q6.solution()"
   ]
  },
  {
   "cell_type": "markdown",
   "id": "6018ffb3",
   "metadata": {
    "papermill": {
     "duration": 0.008467,
     "end_time": "2022-08-13T10:22:13.416980",
     "exception": false,
     "start_time": "2022-08-13T10:22:13.408513",
     "status": "completed"
    },
    "tags": []
   },
   "source": [
    "# Keep going\n",
    "\n",
    "Move on to the [**data types and missing data**](https://www.kaggle.com/residentmario/data-types-and-missing-values)."
   ]
  },
  {
   "cell_type": "markdown",
   "id": "0fc90d91",
   "metadata": {
    "papermill": {
     "duration": 0.008531,
     "end_time": "2022-08-13T10:22:13.434303",
     "exception": false,
     "start_time": "2022-08-13T10:22:13.425772",
     "status": "completed"
    },
    "tags": []
   },
   "source": [
    "---\n",
    "\n",
    "\n",
    "\n",
    "\n",
    "*Have questions or comments? Visit the [course discussion forum](https://www.kaggle.com/learn/pandas/discussion) to chat with other learners.*"
   ]
  }
 ],
 "metadata": {
  "kernelspec": {
   "display_name": "Python 3",
   "language": "python",
   "name": "python3"
  },
  "language_info": {
   "codemirror_mode": {
    "name": "ipython",
    "version": 3
   },
   "file_extension": ".py",
   "mimetype": "text/x-python",
   "name": "python",
   "nbconvert_exporter": "python",
   "pygments_lexer": "ipython3",
   "version": "3.7.12"
  },
  "papermill": {
   "default_parameters": {},
   "duration": 12.988348,
   "end_time": "2022-08-13T10:22:14.065313",
   "environment_variables": {},
   "exception": null,
   "input_path": "__notebook__.ipynb",
   "output_path": "__notebook__.ipynb",
   "parameters": {},
   "start_time": "2022-08-13T10:22:01.076965",
   "version": "2.3.4"
  }
 },
 "nbformat": 4,
 "nbformat_minor": 5
}
